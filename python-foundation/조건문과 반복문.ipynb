{
 "cells": [
  {
   "cell_type": "markdown",
   "id": "987aaf4b-bf0d-45ca-9caa-3b843cb1f363",
   "metadata": {},
   "source": [
    "# 조건문\n",
    "- 특정 조건에 특정 코드들을 실행 할 수 있게 한다.\n",
    "- if가 들어간 문장에는 뒤에 콜론을 붙인다.\n",
    "- if문 안의 문장은 모두 들여쓰기를 해준다."
   ]
  },
  {
   "cell_type": "markdown",
   "id": "b92ec2c8-cfb6-4261-8f29-36980988023d",
   "metadata": {},
   "source": [
    "## 일반적인 if문\n",
    "- if만을 사용하며 조건 하나를 처리할 수 있다."
   ]
  },
  {
   "cell_type": "code",
   "execution_count": 1,
   "id": "fc3034a0-0013-4713-ba53-5d7826d1fcdd",
   "metadata": {},
   "outputs": [
    {
     "name": "stdout",
     "output_type": "stream",
     "text": [
      "a는 10입니다.\n"
     ]
    }
   ],
   "source": [
    "# 일반 if문\n",
    "a = 10\n",
    "if a == 10:\n",
    "    print(\"a는 10입니다.\")"
   ]
  },
  {
   "cell_type": "markdown",
   "id": "f2221e9f-a939-42fe-b5e8-190fcfa5fd5e",
   "metadata": {},
   "source": [
    "## if ~ else문\n",
    "- 조건을 만족하지 않을 때를 처리할 수 있다.\n",
    "- 밑에 else:를 쓰며 else문 안의 문장도 모두 들여쓰기를 해준다."
   ]
  },
  {
   "cell_type": "code",
   "execution_count": 2,
   "id": "0a648cd9-18e6-4a72-96a9-e2d45014023d",
   "metadata": {},
   "outputs": [
    {
     "name": "stdout",
     "output_type": "stream",
     "text": [
      "a는 10입니다.\n"
     ]
    }
   ],
   "source": [
    "# if ~ else문\n",
    "a = 10\n",
    "if a != 10:\n",
    "    print(\"a는 10이 아닙니다.\")\n",
    "else:\n",
    "    print(\"a는 10입니다.\")"
   ]
  },
  {
   "cell_type": "markdown",
   "id": "b0a3669a-5a3b-4846-b669-b89d83a2e59a",
   "metadata": {},
   "source": [
    "## if ~ elif ~ else문\n",
    "- 조건을 여러 개 설정할 수 있다.\n",
    "- else if의 줄임말인 elif를 사용한다.\n",
    "- elif문 안의 문장은 모두 들여쓰기를 해준다.\n",
    "- 위부터 밑으로 내려가면서 조건을 만족하는지 확인하며 조건을 만족하면 그대로 if문은 종료된다."
   ]
  },
  {
   "cell_type": "code",
   "execution_count": 4,
   "id": "6207c4ff-d02d-4fe3-9e6c-495e64faaaa3",
   "metadata": {},
   "outputs": [
    {
     "name": "stdout",
     "output_type": "stream",
     "text": [
      "a는 9입니다.\n"
     ]
    }
   ],
   "source": [
    "# if ~ elif ~ else문\n",
    "a = 9\n",
    "if a == 10:\n",
    "    print(\"a는 10이 아닙니다.\")\n",
    "elif a == 9:\n",
    "    print(\"a는 9입니다.\")\n",
    "else:\n",
    "    print(\"a는 10입니다.\")"
   ]
  },
  {
   "cell_type": "markdown",
   "id": "0cf63114-f191-4f8b-89c8-314de3e17e21",
   "metadata": {},
   "source": [
    "## if문 활용하기\n",
    "- if문 안의 코드 생략하기\n",
    "- 중첩 if문 사용하기\n",
    "- 입력받은 값을 조건에 사용하기"
   ]
  },
  {
   "cell_type": "markdown",
   "id": "5a45b73d-cf44-42ca-86c4-f092da08eec9",
   "metadata": {},
   "source": [
    "### if문 안의 코드 생략하기\n",
    "- 코드를 나중에 작성하고 싶을 때 사용한다."
   ]
  },
  {
   "cell_type": "code",
   "execution_count": 5,
   "id": "119390e3-95fd-4b07-80e3-8c49a31be9e7",
   "metadata": {},
   "outputs": [
    {
     "name": "stdout",
     "output_type": "stream",
     "text": [
      "pass를 사용하면 if문이 생략됩니다.\n"
     ]
    }
   ],
   "source": [
    "a = 10\n",
    "if a == 10:\n",
    "    pass\n",
    "print(\"pass를 사용하면 if문이 생략됩니다.\")"
   ]
  },
  {
   "cell_type": "markdown",
   "id": "ea757b62-3b40-403c-959e-83d98e69c87e",
   "metadata": {},
   "source": [
    "### 중첩 if문 사용하기\n",
    "- 들여쓰기를 조심해야한다."
   ]
  },
  {
   "cell_type": "code",
   "execution_count": 7,
   "id": "9d09c109-2549-4f86-8877-71904a83848f",
   "metadata": {},
   "outputs": [
    {
     "name": "stdout",
     "output_type": "stream",
     "text": [
      "a는 10이상입니다.\n",
      "a는 15입니다.\n"
     ]
    }
   ],
   "source": [
    "a = 15\n",
    "if a >= 10:\n",
    "    print(\"a는 10이상입니다.\")\n",
    "    if a == 15:\n",
    "        print(\"a는 15입니다.\")"
   ]
  },
  {
   "cell_type": "markdown",
   "id": "4415ce8e-f204-4f57-85fd-029c0ac066e0",
   "metadata": {},
   "source": [
    "### 입력받은 값을 조건에 사용하기"
   ]
  },
  {
   "cell_type": "code",
   "execution_count": 13,
   "id": "41b297d1-81c0-4987-879d-308eac5282c4",
   "metadata": {},
   "outputs": [
    {
     "name": "stdin",
     "output_type": "stream",
     "text": [
      "정수를 입력해주세요 :  5\n"
     ]
    },
    {
     "name": "stdout",
     "output_type": "stream",
     "text": [
      "입력받은 수는 10보다 작습니다.\n"
     ]
    }
   ],
   "source": [
    "num = int(input(\"정수를 입력해주세요 : \"))\n",
    "\n",
    "if num >= 10:\n",
    "    print(\"입력받은 수는 10이상입니다.\")\n",
    "else:\n",
    "    print(\"입력받은 수는 10보다 작습니다.\")"
   ]
  },
  {
   "cell_type": "markdown",
   "id": "1bee333c-afe9-40e8-8794-5b31c7e371bf",
   "metadata": {},
   "source": [
    "# 반복문\n",
    "- 특정 코드를 반복해야할 때 사용한다.\n",
    "- for와 while문이 있다."
   ]
  },
  {
   "cell_type": "markdown",
   "id": "466611cc-e52d-4ded-8b6c-4bfa9c513a15",
   "metadata": {},
   "source": [
    "## for문\n",
    "- (for 변수 in range함수 혹은 시퀀스 자료형)의 형태를 가진다.\n",
    "- 변수에는 순서대로 값이 들어온다.\n",
    "- for문 안의 코드들은 들여쓰기를 해야한다."
   ]
  },
  {
   "cell_type": "code",
   "execution_count": 9,
   "id": "406704db-3e6b-45c5-b1e4-7cecb3a51b33",
   "metadata": {},
   "outputs": [
    {
     "name": "stdout",
     "output_type": "stream",
     "text": [
      "Hello world! 0\n",
      "Hello world! 1\n",
      "Hello world! 2\n",
      "Hello world! 3\n",
      "Hello world! 4\n"
     ]
    }
   ],
   "source": [
    "# 단순히 반복이 목적이면 range함수로 반복 횟수를 정해준다.\n",
    "for i in range(5):\n",
    "    print(\"Hello world!\", i)"
   ]
  },
  {
   "cell_type": "code",
   "execution_count": 10,
   "id": "c891547b-5552-46a4-9813-057c8351428a",
   "metadata": {},
   "outputs": [
    {
     "name": "stdout",
     "output_type": "stream",
     "text": [
      "안\n",
      "녕\n",
      "하\n",
      "세\n",
      "요\n"
     ]
    }
   ],
   "source": [
    "# 변수에는 값이 순서대로 들어간다.\n",
    "str1 = \"안녕하세요\"\n",
    "for i in str1:\n",
    "    print(i)"
   ]
  },
  {
   "cell_type": "code",
   "execution_count": 11,
   "id": "b75f1811-cd4e-4ebb-a421-6167b5881e69",
   "metadata": {},
   "outputs": [
    {
     "name": "stdout",
     "output_type": "stream",
     "text": [
      "Hello world!\n",
      "Hello world!\n",
      "Hello world!\n",
      "Hello world!\n",
      "Hello world!\n"
     ]
    }
   ],
   "source": [
    "# 변수에 값이 들어갈 필요가 없을 때는 변수 자리에 언더바를 사용한다.\n",
    "for _ in range(5):\n",
    "    print(\"Hello world!\")"
   ]
  },
  {
   "cell_type": "markdown",
   "id": "0a91f9bd-ff4e-488b-ac6c-4d92135fa0d8",
   "metadata": {},
   "source": [
    "## While문\n",
    "- while문의 조건이 참이면 특정 코드가 계속 반복된다.\n",
    "- 조건이 거짓이 되면 while문은 종료된다.\n",
    "- 보통 조건의 변수를 변화시켜 특정 시점에 반복을 종료한다.\n",
    "- 무한 루프를 사용할 수 있다."
   ]
  },
  {
   "cell_type": "code",
   "execution_count": 12,
   "id": "b395efe2-f021-4f16-9bdb-26603a35096c",
   "metadata": {},
   "outputs": [
    {
     "name": "stdout",
     "output_type": "stream",
     "text": [
      "Hello world!\n",
      "Hello world!\n",
      "Hello world!\n",
      "Hello world!\n",
      "Hello world!\n"
     ]
    }
   ],
   "source": [
    "i = 0\n",
    "while i <= 4:\n",
    "    print(\"Hello world!\")\n",
    "    i += 1"
   ]
  },
  {
   "cell_type": "code",
   "execution_count": null,
   "id": "1007033c-a91c-4daa-8e83-27ef8130c8e2",
   "metadata": {},
   "outputs": [],
   "source": [
    "# 무한 루프 사용하기\n",
    "while True:\n",
    "    print(\"Hello world\")"
   ]
  },
  {
   "cell_type": "markdown",
   "id": "9210f5e8-214b-43b2-a892-294de9b71755",
   "metadata": {},
   "source": [
    "# 제어문\n",
    "- break는 반복문을 즉시 종료한다.\n",
    "- continue는 반복은 유지하되, 코드 실행은 건너뜁니다."
   ]
  },
  {
   "cell_type": "markdown",
   "id": "4c3d3146-1ac9-4bd7-adf6-88cb34c24397",
   "metadata": {},
   "source": [
    "## break 사용하기"
   ]
  },
  {
   "cell_type": "code",
   "execution_count": 16,
   "id": "72822eee-d216-4702-96d7-1cf4df824bcd",
   "metadata": {},
   "outputs": [
    {
     "name": "stdout",
     "output_type": "stream",
     "text": [
      "반복문이 종료되었습니다. 10\n"
     ]
    }
   ],
   "source": [
    "i = 0\n",
    "while True:\n",
    "    i += 1\n",
    "    if i == 10:\n",
    "        break\n",
    "print(\"반복문이 종료되었습니다.\", i)"
   ]
  },
  {
   "cell_type": "markdown",
   "id": "8135cf60-3e98-430b-b42c-887ebfea7ef5",
   "metadata": {},
   "source": [
    "## continue 사용하기"
   ]
  },
  {
   "cell_type": "code",
   "execution_count": 18,
   "id": "9a51765c-dc3d-4aec-8387-9958cde5aa3d",
   "metadata": {},
   "outputs": [
    {
     "name": "stdout",
     "output_type": "stream",
     "text": [
      "1\n",
      "3\n",
      "5\n",
      "7\n",
      "9\n"
     ]
    }
   ],
   "source": [
    "# 짝수일 때는 print(i)를 건너뛴다.\n",
    "for i in range(10):      \n",
    "    if i % 2 == 0:        \n",
    "        continue          \n",
    "    print(i)"
   ]
  }
 ],
 "metadata": {
  "kernelspec": {
   "display_name": "Python 3 (ipykernel)",
   "language": "python",
   "name": "python3"
  },
  "language_info": {
   "codemirror_mode": {
    "name": "ipython",
    "version": 3
   },
   "file_extension": ".py",
   "mimetype": "text/x-python",
   "name": "python",
   "nbconvert_exporter": "python",
   "pygments_lexer": "ipython3",
   "version": "3.11.7"
  }
 },
 "nbformat": 4,
 "nbformat_minor": 5
}
