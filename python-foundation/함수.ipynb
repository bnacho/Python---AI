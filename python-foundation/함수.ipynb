{
 "cells": [
  {
   "cell_type": "markdown",
   "id": "205ab459-5b78-424e-a2c9-2114c0a68c0e",
   "metadata": {},
   "source": [
    "# 사용자 정의 함수\n",
    "- print함수와 같이 괄호 안에 값을 넣으면 동작을 하는 것을 함수라고 한다.\n",
    "- 값만 바꿔 코드를 재사용 해야할 때 유용하다."
   ]
  },
  {
   "cell_type": "markdown",
   "id": "3016b035-d7a3-4e8c-a620-db8f3dd5c448",
   "metadata": {},
   "source": [
    "## 간단한 사용자 정의 함수 만들기\n",
    "- 함수를 만들 때는 def로 시작하며 함수명이 들어간다.\n",
    "- 함수를 정의할 때도 들여쓰기가 사용된다.\n",
    "- 함수를 호출할 때는 함수명()의 형식으로 호출할 수 있다."
   ]
  },
  {
   "cell_type": "code",
   "execution_count": 1,
   "id": "5f453a03-565e-40c7-bde1-116d4ea26127",
   "metadata": {},
   "outputs": [
    {
     "name": "stdout",
     "output_type": "stream",
     "text": [
      "함수입니다.\n"
     ]
    }
   ],
   "source": [
    "def func():\n",
    "    print(\"함수입니다.\")\n",
    "\n",
    "func()"
   ]
  },
  {
   "cell_type": "markdown",
   "id": "605566f9-d4fe-41f4-8e7c-8d0a3f81058c",
   "metadata": {},
   "source": [
    "## 매개변수가 들어가는 함수 만들기\n",
    "- 사용자로부터 값을 받는 함수에는 매개변수가 필요하다.\n",
    "- def 함수명(매개변수1, 매개변수2, ...)로 정의한다.\n",
    "- 함수를 호출할 때는 함수명(매개변수1, 매개변수2, ...)로 호출한다."
   ]
  },
  {
   "cell_type": "code",
   "execution_count": 2,
   "id": "b81cf2c7-6d2a-49c4-a368-c457a20f77ca",
   "metadata": {},
   "outputs": [
    {
     "name": "stdout",
     "output_type": "stream",
     "text": [
      "5\n"
     ]
    }
   ],
   "source": [
    "def add(x, y):\n",
    "    print(x + y)\n",
    "\n",
    "add(2, 3)"
   ]
  },
  {
   "cell_type": "markdown",
   "id": "cda4d76a-24bc-402b-8f9b-0f352bad2afa",
   "metadata": {},
   "source": [
    "## 함수의 결과를 반환하기\n",
    "- 함수의 결과값을 변수에 저장하거나 꺼내오기 위함이다.\n",
    "- return을 사용하여 반환시킬 수 있다.\n",
    "- 여러 값을 반환시킬 수 있다.(튜플 자료형으로 반환된다.)"
   ]
  },
  {
   "cell_type": "code",
   "execution_count": 3,
   "id": "c63b6aa7-cd06-4bc1-890b-afd1b7c29994",
   "metadata": {},
   "outputs": [
    {
     "name": "stdout",
     "output_type": "stream",
     "text": [
      "8\n"
     ]
    }
   ],
   "source": [
    "def add(x, y):\n",
    "    return x + y\n",
    "\n",
    "result = add(3,5)\n",
    "print(result)"
   ]
  },
  {
   "cell_type": "code",
   "execution_count": 5,
   "id": "7fdf01f0-8782-4bb1-923c-45cdc1ceb31c",
   "metadata": {},
   "outputs": [
    {
     "name": "stdout",
     "output_type": "stream",
     "text": [
      "(8, -2)\n"
     ]
    }
   ],
   "source": [
    "def plus_minus(x, y):\n",
    "    return x+y, x-y\n",
    "result = plus_minus(3, 5)\n",
    "print(result)"
   ]
  },
  {
   "cell_type": "markdown",
   "id": "12713be1-673d-45c1-a24c-e8607e00847e",
   "metadata": {},
   "source": [
    "## 함수 사용 정리\n",
    "- 매개변수와 반환값이 없는 함수\n",
    "- 매개변수는 있는데 반환값이 없는 함수\n",
    "- 매개변수가 없는데 반환값이 있는 함수\n",
    "- 매개변수도 있고 반환값도 있는 함수"
   ]
  },
  {
   "cell_type": "code",
   "execution_count": 1,
   "id": "56535eeb-6e19-4d73-9a36-07e8f1e07e44",
   "metadata": {},
   "outputs": [
    {
     "name": "stdout",
     "output_type": "stream",
     "text": [
      "Hello world!\n"
     ]
    }
   ],
   "source": [
    "# 매개변수와 반환값이 없는 함수\n",
    "def hello():\n",
    "    print(\"Hello world!\")\n",
    "hello()"
   ]
  },
  {
   "cell_type": "code",
   "execution_count": 2,
   "id": "ee4217a0-be0a-42e4-9227-e943a61342bb",
   "metadata": {},
   "outputs": [
    {
     "name": "stdout",
     "output_type": "stream",
     "text": [
      "8\n"
     ]
    }
   ],
   "source": [
    "# 매개변수는 있는데 반환값이 없는 함수\n",
    "def add(x, y):\n",
    "    print(x+y)\n",
    "\n",
    "add(3,5)"
   ]
  },
  {
   "cell_type": "code",
   "execution_count": 3,
   "id": "c0f731b3-2c6a-4853-a089-cefc7887050c",
   "metadata": {},
   "outputs": [
    {
     "name": "stdout",
     "output_type": "stream",
     "text": [
      "0\n"
     ]
    }
   ],
   "source": [
    "# 매개변수가 없는데 반환값이 있는 함수\n",
    "def zero():\n",
    "    return 0\n",
    "\n",
    "result = zero()\n",
    "print(result)"
   ]
  },
  {
   "cell_type": "code",
   "execution_count": 4,
   "id": "1530f1fc-4a3c-46a1-bc50-b6fd4171aeb6",
   "metadata": {},
   "outputs": [
    {
     "name": "stdout",
     "output_type": "stream",
     "text": [
      "8\n"
     ]
    }
   ],
   "source": [
    "# 매개변수도 있고 반환값도 있는 함수\n",
    "def add(x, y):\n",
    "    return x + y\n",
    "result = add(3, 5)\n",
    "print(result)"
   ]
  },
  {
   "cell_type": "markdown",
   "id": "0295ad44-3d1c-46df-aef3-88d8f86fe8b8",
   "metadata": {},
   "source": [
    "## 매개변수의 개수를 사용자가 정하는 경우\n",
    "- 매개변수 자리에 *을 사용하면 매개변수의 개수를 정하지 않아도 된다.\n",
    "- 딕셔너리일 때는 방법이 조금 다르다."
   ]
  },
  {
   "cell_type": "code",
   "execution_count": 14,
   "id": "dc846229-64ff-4660-a592-3617db8ae876",
   "metadata": {},
   "outputs": [
    {
     "name": "stdout",
     "output_type": "stream",
     "text": [
      "홍길동\n",
      "홍길은\n",
      "홍길금\n"
     ]
    }
   ],
   "source": [
    "# 리스트는 앞에 *을 붙임으로써 언패킹을 해줄 수 있다.\n",
    "def print_person(x, y, z):\n",
    "    print(x)\n",
    "    print(y)\n",
    "    print(z)\n",
    "    \n",
    "person = ['홍길동', '홍길은', '홍길금']\n",
    "print_person(*person)"
   ]
  },
  {
   "cell_type": "code",
   "execution_count": 7,
   "id": "49776421-abca-4a59-bd64-fd7e5516e125",
   "metadata": {},
   "outputs": [
    {
     "name": "stdout",
     "output_type": "stream",
     "text": [
      "안\n",
      "녕\n",
      "하\n",
      "세\n",
      "요\n"
     ]
    }
   ],
   "source": [
    "# 리스트 언패킹을 활용해서 매개변수의 개수를 정하지 않아도 된다.\n",
    "def word(*x):\n",
    "    for i in x:\n",
    "        print(i)\n",
    "\n",
    "word('안', '녕', '하', '세', '요')"
   ]
  },
  {
   "cell_type": "code",
   "execution_count": 18,
   "id": "342c947c-e965-4ec5-82bc-f85c5c083fe1",
   "metadata": {},
   "outputs": [
    {
     "name": "stdout",
     "output_type": "stream",
     "text": [
      "홍길동\n",
      "30\n",
      "50\n"
     ]
    }
   ],
   "source": [
    "# 딕셔너리 일때는 **을 붙여준다.\n",
    "# 딕셔너리의 키 값과 함수의 매개변수의 이름이 같아야한다.\n",
    "def print_info(name, age, weight):\n",
    "    print(name)\n",
    "    print(age)\n",
    "    print(weight)\n",
    "    \n",
    "info = {'name': '홍길동', 'age': 30, 'weight': 50}\n",
    "print_info(**info)\n"
   ]
  },
  {
   "cell_type": "markdown",
   "id": "b9dc9490-a9c1-4e42-b7d7-07324666eed1",
   "metadata": {},
   "source": [
    "## 매개변수의 기본값 정하기\n",
    "- 원래는 함수를 정의할 때의 매개변수 개수와 호출할 때의 개수가 일치하지 않으면 오류가 발생한다.\n",
    "- 기본값을 정해줌으로써 개수가 일치하지 않을 때의 오류를 최소화할 수 있다."
   ]
  },
  {
   "cell_type": "code",
   "execution_count": 11,
   "id": "150d2116-aee6-4d90-bf44-52adfd241a52",
   "metadata": {},
   "outputs": [
    {
     "name": "stdout",
     "output_type": "stream",
     "text": [
      "홍길은\n",
      "30\n",
      "50\n",
      "홍길금\n",
      "40\n",
      "50\n",
      "홍길다이아\n",
      "20\n",
      "50\n"
     ]
    }
   ],
   "source": [
    "def person(name, age = 20, weight= 50):\n",
    "    print(name)\n",
    "    print(age)\n",
    "    print(weight)\n",
    "\n",
    "# 위처럼 기본값을 정해놓으면 함수릏 호출할 때 값을 주지 않더라도 기본값으로 대체된다.\n",
    "# 기본값은 항상 오른쪽부터 줘야한다.\n",
    "person(\"홍길은\", 30, 50)\n",
    "person(\"홍길금\", 40)\n",
    "person(\"홍길다이아\")"
   ]
  },
  {
   "cell_type": "markdown",
   "id": "f114b6cd-5ab2-4885-916f-d9ffc48ada6a",
   "metadata": {},
   "source": [
    "## 함수의 재귀호출 사용하기\n",
    "- 일반적인 상황에서는 잘 사용하지 않는다.\n",
    "- 특정 알고리즘을 구현하기 위해서 사용하며 직관적이라는 장점이 있다.\n",
    "- 함수 안에서 함수를 호출하는 것이다."
   ]
  },
  {
   "cell_type": "code",
   "execution_count": 22,
   "id": "163def18-9a5a-49f8-acad-292e063d331c",
   "metadata": {},
   "outputs": [
    {
     "name": "stdout",
     "output_type": "stream",
     "text": [
      "Hello world! 0\n",
      "Hello world! 1\n",
      "Hello world! 2\n",
      "Hello world! 3\n",
      "Hello world! 4\n"
     ]
    }
   ],
   "source": [
    "# 반복문으로 구현하기\n",
    "def print_hello(cnt):\n",
    "    for i in range(cnt):\n",
    "        print(\"Hello world!\", i)\n",
    "\n",
    "print_hello(5)"
   ]
  },
  {
   "cell_type": "markdown",
   "id": "995dbf3d-e256-4954-9c1a-b89f4fc58a67",
   "metadata": {},
   "source": [
    "- 간단한 함수는 모르겠지만 팩토리얼이나 피보나치 수열 알고리즘을 구현할 때는 재귀호출이 편리하다."
   ]
  },
  {
   "cell_type": "code",
   "execution_count": 23,
   "id": "926f03aa-70f5-4658-a0fa-eb55a07a23b5",
   "metadata": {},
   "outputs": [
    {
     "name": "stdout",
     "output_type": "stream",
     "text": [
      "Hello world! 5\n",
      "Hello world! 4\n",
      "Hello world! 3\n",
      "Hello world! 2\n",
      "Hello world! 1\n"
     ]
    }
   ],
   "source": [
    "# 재귀호출로 구현하기\n",
    "def print_hello(cnt):\n",
    "    if cnt == 0:\n",
    "        return\n",
    "    print(\"Hello world!\", cnt)\n",
    "    cnt -= 1\n",
    "    print_hello(cnt)\n",
    "\n",
    "print_hello(5)"
   ]
  },
  {
   "cell_type": "markdown",
   "id": "3dc1027f-ec56-491c-bae9-9d8b6033d2e0",
   "metadata": {},
   "source": [
    "## 재귀호출로 팩토리얼 함수 구현하기\n",
    "- 팩토리얼, 피보나치 등 특정 순간에는 재귀호출이 더 직관적이고 편리할 때가 있다."
   ]
  },
  {
   "cell_type": "code",
   "execution_count": 24,
   "id": "ddc2e22c-c3c6-4ce7-a8bf-ece8294fca16",
   "metadata": {},
   "outputs": [
    {
     "name": "stdout",
     "output_type": "stream",
     "text": [
      "120\n"
     ]
    }
   ],
   "source": [
    "def factorial(n):\n",
    "    if n == 1:     \n",
    "        return 1  \n",
    "    return n * factorial(n - 1)   \n",
    " \n",
    "print(factorial(5))"
   ]
  }
 ],
 "metadata": {
  "kernelspec": {
   "display_name": "Python 3 (ipykernel)",
   "language": "python",
   "name": "python3"
  },
  "language_info": {
   "codemirror_mode": {
    "name": "ipython",
    "version": 3
   },
   "file_extension": ".py",
   "mimetype": "text/x-python",
   "name": "python",
   "nbconvert_exporter": "python",
   "pygments_lexer": "ipython3",
   "version": "3.11.7"
  }
 },
 "nbformat": 4,
 "nbformat_minor": 5
}
