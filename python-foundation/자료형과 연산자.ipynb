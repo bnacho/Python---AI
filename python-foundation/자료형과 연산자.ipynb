{
 "cells": [
  {
   "cell_type": "markdown",
   "id": "1aaad388-329b-4d4f-9d66-42252468bfe6",
   "metadata": {},
   "source": [
    "# 파이썬 자료형과 연산자 알아보기(문자열, 숫자형 제외)\n",
    "- Boolean형과 비교연산자\n",
    "- 논리 연산자\n",
    "- 리스트와 튜플(시퀀스 자료형)\n",
    "- 딕셔너리"
   ]
  },
  {
   "cell_type": "markdown",
   "id": "9c136053-6092-4938-9e27-b3db43fd201e",
   "metadata": {},
   "source": [
    "## Boolean형과 비교연산자\n",
    "- 참과 거짓을 나타내며 True와 False로 나타낸다.\n",
    "- 보통 비교 연산자의 결과로 Boolean형이 나온다.\n",
    "- 비교연산자는 우리가 수학에서 배우는 부등호, 등호를 나타낸다."
   ]
  },
  {
   "cell_type": "code",
   "execution_count": 1,
   "id": "885e18b2-7d00-4ca0-b0c0-12bf444415ee",
   "metadata": {},
   "outputs": [
    {
     "name": "stdout",
     "output_type": "stream",
     "text": [
      "True <class 'bool'>\n",
      "False <class 'bool'>\n"
     ]
    }
   ],
   "source": [
    "# Boolean형 알아보기\n",
    "print(True, type(True))\n",
    "print(False, type(False))"
   ]
  },
  {
   "cell_type": "code",
   "execution_count": 12,
   "id": "75fbfc30-6924-443e-8b09-a7864e1a064e",
   "metadata": {},
   "outputs": [
    {
     "name": "stdout",
     "output_type": "stream",
     "text": [
      "False <class 'bool'>\n"
     ]
    }
   ],
   "source": [
    "# 비교 연산자의 결과\n",
    "result = 3 > 5\n",
    "print(result, type(result))\n",
    "\n",
    "# == : 같다.\n",
    "# != : 같지 않다.\n",
    "# a >= b : a가 b보다 크거나 같다.\n",
    "# a <= b : a가 b보다 작거나 같다.\n",
    "# a > b : a가 b보다 크다.\n",
    "# a < b : a가 b보다 작다."
   ]
  },
  {
   "cell_type": "code",
   "execution_count": 6,
   "id": "91dfd67d-c6ce-41be-815b-45d92c935a14",
   "metadata": {},
   "outputs": [
    {
     "name": "stdout",
     "output_type": "stream",
     "text": [
      "True <class 'bool'>\n",
      "True <class 'bool'>\n"
     ]
    },
    {
     "name": "stderr",
     "output_type": "stream",
     "text": [
      "<>:2: SyntaxWarning: \"is\" with a literal. Did you mean \"==\"?\n",
      "<>:2: SyntaxWarning: \"is\" with a literal. Did you mean \"==\"?\n",
      "<>:3: SyntaxWarning: \"is not\" with a literal. Did you mean \"!=\"?\n",
      "<>:3: SyntaxWarning: \"is not\" with a literal. Did you mean \"!=\"?\n",
      "<>:2: SyntaxWarning: \"is\" with a literal. Did you mean \"==\"?\n",
      "<>:2: SyntaxWarning: \"is\" with a literal. Did you mean \"==\"?\n",
      "<>:3: SyntaxWarning: \"is not\" with a literal. Did you mean \"!=\"?\n",
      "<>:3: SyntaxWarning: \"is not\" with a literal. Did you mean \"!=\"?\n",
      "C:\\Users\\KMS\\AppData\\Local\\Temp\\ipykernel_16812\\2987363685.py:2: SyntaxWarning: \"is\" with a literal. Did you mean \"==\"?\n",
      "  print(\"안녕하세요\" is \"안녕하세요\", type(\"안녕하세요\" is \"안녕하세요\"))\n",
      "C:\\Users\\KMS\\AppData\\Local\\Temp\\ipykernel_16812\\2987363685.py:2: SyntaxWarning: \"is\" with a literal. Did you mean \"==\"?\n",
      "  print(\"안녕하세요\" is \"안녕하세요\", type(\"안녕하세요\" is \"안녕하세요\"))\n",
      "C:\\Users\\KMS\\AppData\\Local\\Temp\\ipykernel_16812\\2987363685.py:3: SyntaxWarning: \"is not\" with a literal. Did you mean \"!=\"?\n",
      "  print(3 is not 3.0, type(3 is not 3.0))\n",
      "C:\\Users\\KMS\\AppData\\Local\\Temp\\ipykernel_16812\\2987363685.py:3: SyntaxWarning: \"is not\" with a literal. Did you mean \"!=\"?\n",
      "  print(3 is not 3.0, type(3 is not 3.0))\n"
     ]
    }
   ],
   "source": [
    "# 같은 객체인지 비교하기(is와 is not 사용)\n",
    "# 3과 3.0은 각각 int와 float로 다른 객체이기 때문에 결과가 밑처럼 나온다.\n",
    "print(\"안녕하세요\" is \"안녕하세요\", type(\"안녕하세요\" is \"안녕하세요\"))\n",
    "print(3 is not 3.0, type(3 is not 3.0))"
   ]
  },
  {
   "cell_type": "markdown",
   "id": "18d1e9fa-49cd-4f28-8e4b-0e930f45906b",
   "metadata": {},
   "source": [
    "## 논리 연산자\n",
    "- And : 둘 다 True일 때 True를 반환함.\n",
    "- Or : 둘 중 하나라도 True이면 True를 반환함.\n",
    "- Not : True이면 False를 False이면 True를 반환함.\n",
    "- 논리 연산자와 비교 연산자를 함께 사용하면 다양한 기능을 수행할 수 있음."
   ]
  },
  {
   "cell_type": "code",
   "execution_count": 7,
   "id": "d425b94d-1ab0-476c-9bc4-851f77fb1ff0",
   "metadata": {},
   "outputs": [
    {
     "name": "stdout",
     "output_type": "stream",
     "text": [
      "True\n",
      "False\n",
      "False\n"
     ]
    }
   ],
   "source": [
    "# And 논리 연산자 예시\n",
    "print(True and True)\n",
    "print(True and False)\n",
    "print(False and False)"
   ]
  },
  {
   "cell_type": "code",
   "execution_count": 8,
   "id": "0a0c60e4-39ba-43f5-b75e-43505f7388b2",
   "metadata": {},
   "outputs": [
    {
     "name": "stdout",
     "output_type": "stream",
     "text": [
      "True\n",
      "True\n",
      "False\n"
     ]
    }
   ],
   "source": [
    "# Or 논리 연산자 예시\n",
    "print(True or True)\n",
    "print(True or False)\n",
    "print(False or False)"
   ]
  },
  {
   "cell_type": "code",
   "execution_count": 9,
   "id": "7efd7703-b062-4cd6-95b5-870a81a86aef",
   "metadata": {},
   "outputs": [
    {
     "name": "stdout",
     "output_type": "stream",
     "text": [
      "False\n",
      "True\n"
     ]
    }
   ],
   "source": [
    "# Not 논리 연산자 예시\n",
    "print(not True)\n",
    "print(not False)"
   ]
  },
  {
   "cell_type": "code",
   "execution_count": 13,
   "id": "7775e4b8-a19e-473b-bc22-ada0246bcb8f",
   "metadata": {},
   "outputs": [
    {
     "name": "stdout",
     "output_type": "stream",
     "text": [
      "False\n",
      "True\n",
      "False\n"
     ]
    }
   ],
   "source": [
    "# 논리 연산자와 비교 연산자를 함께 사용하는 예시\n",
    "print(10 > 5 and 5 < 3)\n",
    "print(10 != 2 or 5 == 3)\n",
    "print(not 2 < 7)"
   ]
  },
  {
   "cell_type": "markdown",
   "id": "b6e2b319-0637-4c49-a00a-2e0adc73f6b8",
   "metadata": {},
   "source": [
    "## 리스트와 튜플\n",
    "- 여러 값을 한 번에 저장할 수 있는 자료형\n",
    "- 인덱싱과 슬라이싱이 가능한 순서가 있는 시퀀스 자료형"
   ]
  },
  {
   "cell_type": "markdown",
   "id": "37dcca4b-58e0-4aba-a071-b4eae96439c4",
   "metadata": {},
   "source": [
    "### 리스트\n",
    "- 다양한 자료형을 저장할 수 있다.\n",
    "- 인덱싱과 슬라이싱이 가능하다.\n",
    "- 추가, 삭제, 수정이 가능하다."
   ]
  },
  {
   "cell_type": "code",
   "execution_count": 19,
   "id": "e7e59c45-d55c-4962-8ba8-bb1ec239748c",
   "metadata": {},
   "outputs": [
    {
     "name": "stdout",
     "output_type": "stream",
     "text": [
      "[] [] <class 'list'> <class 'list'>\n",
      "[1, 2, 3, '4'] <class 'list'>\n",
      "[0, 1, 2, 3, 4, 5, 6, 7, 8, 9] <class 'list'>\n"
     ]
    }
   ],
   "source": [
    "# 빈 리스트 만들기\n",
    "li1 = []\n",
    "li2 = list()\n",
    "print(li1, li2, type(li1), type(li2))\n",
    "\n",
    "# 값이 저장된 리스트 만들기\n",
    "li1 = [1, 2, 3, '4']\n",
    "print(li1, type(li1))\n",
    "\n",
    "# range함수를 사용하여 리스트 만들기\n",
    "# range의 괄호 안에는 start : stop : step으로 들어간다.\n",
    "# start가 0일 경우, stop이 맨 끝일 경우, step이 1일 경우 생략 가능하다.\n",
    "li1 = list(range(10)) \n",
    "print(li1, type(li1))"
   ]
  },
  {
   "cell_type": "code",
   "execution_count": 21,
   "id": "32865571-c684-41e5-a3cf-8e465e511637",
   "metadata": {},
   "outputs": [
    {
     "name": "stdout",
     "output_type": "stream",
     "text": [
      "0 9\n",
      "[2, 4, 6]\n"
     ]
    }
   ],
   "source": [
    "# 리스트의 인덱싱과 슬라이싱\n",
    "# 앞 글의 문자열 인덱싱과 슬라이싱에서 사용하는 방법과 동일하다.\n",
    "li1 = list(range(10))\n",
    "print(li1[0], li1[-1])\n",
    "print(li1[2:7:2])"
   ]
  },
  {
   "cell_type": "code",
   "execution_count": 36,
   "id": "95493ede-c6a2-4e95-b6b6-28afac938a80",
   "metadata": {},
   "outputs": [
    {
     "name": "stdout",
     "output_type": "stream",
     "text": [
      "[0, 1, 2, 3, 4, 5, 6, 7, 8, 9]\n",
      "[0, 1, 2, 3, 4, 5, 6, 7, 8, 9, 10]\n",
      "[-1, 0, 1, 2, 3, 4, 5, 6, 7, 8, 9, 10]\n",
      "[0, 1, 2, 3, 4, 5, 6, 7, 8, 9, 10]\n",
      "[0, 1, 2, 3, 4, 5, 6, 7, 8, 9]\n",
      "[0, 2, 3, 4, 5, 6, 7, 8, 9]\n",
      "[0, 2, 3, 4, 5, 6, 7, 8, 9, 10, 11, 12, 13, 14, 15]\n"
     ]
    }
   ],
   "source": [
    "# 리스트의 추가, 삭제, 수정\n",
    "li1 = list(range(10))\n",
    "print(li1)\n",
    "\n",
    "# 추가(append) : 맨 끝에 추가된다.\n",
    "li1.append(10)\n",
    "print(li1)\n",
    "\n",
    "# 추가(insert) : 원하는 자리에 원소를 추가할 수 있다.\n",
    "li1.insert(0,-1)\n",
    "print(li1)\n",
    "\n",
    "# 삭제(pop)\n",
    "li1.pop(0) # 괄호 안에 값이 없으면 마지막 값이 삭제된다.\n",
    "print(li1)\n",
    "\n",
    "# 삭제(del)\n",
    "del li1[-1]\n",
    "print(li1)\n",
    "\n",
    "# 삭제(remove) : 값을 찾아서 삭제할 수 있다.\n",
    "li1.remove(1)\n",
    "print(li1)\n",
    "\n",
    "# 확장(extend)\n",
    "li1.extend([10,11,12,13,14,15])\n",
    "print(li1)"
   ]
  },
  {
   "cell_type": "markdown",
   "id": "120a08d3-c16a-437d-a0ba-97e8906784d9",
   "metadata": {},
   "source": [
    "### 튜플\n",
    "- 다양한 자료형을 저장할 수 있다.\n",
    "- 인덱싱과 슬라이싱이 가능하다.\n",
    "- 추가, 삭제, 수정이 불가능하다.\n",
    "- 패킹과 언패킹을 할 수 있다."
   ]
  },
  {
   "cell_type": "code",
   "execution_count": 32,
   "id": "b99f9f0a-f4f4-41dc-a0ae-a33f5088620e",
   "metadata": {},
   "outputs": [
    {
     "name": "stdout",
     "output_type": "stream",
     "text": [
      "() () <class 'tuple'> <class 'tuple'>\n",
      "(1, 2, 3, '4') <class 'tuple'>\n",
      "1 <class 'int'>\n",
      "(1,) <class 'tuple'>\n",
      "(0, 1, 2, 3, 4, 5, 6, 7, 8, 9) <class 'tuple'>\n"
     ]
    }
   ],
   "source": [
    "# 빈 튜플 만들기\n",
    "tp1 = ()\n",
    "tp2 = tuple()\n",
    "print(tp1, tp2, type(tp1), type(tp2))\n",
    "\n",
    "# 값이 저장된 튜플 만들기\n",
    "tp1 = (1, 2, 3, '4')\n",
    "print(tp1, type(tp1))\n",
    "\n",
    "# 원소가 한 개 있는 튜플 만들기\n",
    "# 괄호 안에 원소를 한 개만 넣으면 그냥 숫자형으로 인식한다.\n",
    "# 원소가 한 개인 튜플을 만들기 위해서는 콤마를 붙여준다.\n",
    "tp1 = (1)\n",
    "print(tp1, type(tp1))\n",
    "tp1 = (1, )\n",
    "print(tp1, type(tp1))\n",
    "\n",
    "# range함수를 사용하여 튜플 만들기\n",
    "# range의 괄호 안에는 start : stop : step으로 들어간다.\n",
    "# start가 0일 경우, stop이 맨 끝일 경우, step이 1일 경우 생략 가능하다.\n",
    "tp1 = tuple(range(10)) \n",
    "print(tp1, type(tp1))"
   ]
  },
  {
   "cell_type": "code",
   "execution_count": 33,
   "id": "f2a83e4b-4a17-444f-a1a7-8db0f75b8b21",
   "metadata": {},
   "outputs": [
    {
     "name": "stdout",
     "output_type": "stream",
     "text": [
      "0 9\n",
      "(2, 4, 6)\n"
     ]
    }
   ],
   "source": [
    "# 튜플의 인덱싱과 슬라이싱\n",
    "tp1 = tuple(range(10))\n",
    "print(tp1[0], tp1[-1])\n",
    "print(tp1[2:7:2])"
   ]
  },
  {
   "cell_type": "code",
   "execution_count": 35,
   "id": "7f8a29c2-59c4-4b15-b906-6069099680f7",
   "metadata": {},
   "outputs": [
    {
     "name": "stdout",
     "output_type": "stream",
     "text": [
      "(1, 2, 3) <class 'tuple'>\n",
      "1 2 3\n"
     ]
    }
   ],
   "source": [
    "# 튜플의 패킹과 언패킹\n",
    "\n",
    "# 패킹 : 괄호를 사용하지 않아도 알아서 튜플로 묶어준다.\n",
    "tp1 = 1, 2, 3\n",
    "print(tp1, type(tp1))\n",
    "\n",
    "# 언패킹 : 원소의 개수만큼 변수를 써주고 오른쪽에 튜플을 써주면 알아서 변수에 값이 들어간다.\n",
    "num1, num2, num3 = tp1\n",
    "print(num1, num2, num3)"
   ]
  },
  {
   "cell_type": "markdown",
   "id": "12bcd381-4e29-4fe2-97be-3750ec377d25",
   "metadata": {},
   "source": [
    "## 딕셔너리\n",
    "- 리스트와 튜플과는 다르게 순서가 없어 인덱싱과 슬라이싱이 불가능하다.\n",
    "- key값과 value값이 존재하여 한 쌍을 이룬다."
   ]
  },
  {
   "cell_type": "code",
   "execution_count": 38,
   "id": "4d0a9859-a185-44b8-92b1-41bb3fd0ab72",
   "metadata": {},
   "outputs": [
    {
     "name": "stdout",
     "output_type": "stream",
     "text": [
      "{} {} <class 'dict'> <class 'dict'>\n",
      "{'이름': '홍길동', '나이': 20, '성별': '남자'} <class 'dict'>\n"
     ]
    }
   ],
   "source": [
    "# 빈 딕셔너리 만들기\n",
    "dict1 = {}\n",
    "dict2 = dict()\n",
    "print(dict1, dict2, type(dict1), type(dict2))\n",
    "\n",
    "# 값이 있는 딕셔너리 만들기\n",
    "# {key : value}의 형식으로 만든다.\n",
    "# key값은 중복이 허용되지 않지만 value값은 중복이 허용된다.\n",
    "dict1 = {\"이름\" : \"홍길동\", \"나이\" : 20, \"성별\" : \"남자\"}\n",
    "print(dict1, type(dict1))"
   ]
  },
  {
   "cell_type": "code",
   "execution_count": 40,
   "id": "94f86cad-57cb-4d26-921e-97205f7fe80e",
   "metadata": {},
   "outputs": [
    {
     "name": "stdout",
     "output_type": "stream",
     "text": [
      "홍길동\n",
      "True\n"
     ]
    }
   ],
   "source": [
    "# 딕셔너리의 key값에 접근하기\n",
    "# 인덱싱과 슬라이싱이 불가능하지만 key값을 통해 인덱싱과 비슷한 기능을 할 수 있다.\n",
    "dict1 = {\"이름\" : \"홍길동\", \"나이\" : 20, \"성별\" : \"남자\"}\n",
    "print(dict1[\"이름\"])\n",
    "\n",
    "# key값의 존재 여부 확인하기\n",
    "print(\"이름\" in dict1)"
   ]
  },
  {
   "cell_type": "code",
   "execution_count": 47,
   "id": "3e5594a3-a731-4571-bbfa-042f05b4afaa",
   "metadata": {},
   "outputs": [
    {
     "name": "stdout",
     "output_type": "stream",
     "text": [
      "{'이름': '홍길동', '나이': 20, '성별': '남자', '몸무게': 60}\n",
      "{'이름': '홍길동', '나이': 20, '성별': '남자', '몸무게': 60, '시력': 1.8}\n",
      "{'이름': '홍길동', '나이': 20, '성별': '남자', '몸무게': 60}\n",
      "{'이름': '홍길동', '나이': 20, '성별': '남자'}\n",
      "{}\n"
     ]
    }
   ],
   "source": [
    "# 딕셔너리 추가, 삭제, 수정\n",
    "dict1 = {\"이름\" : \"홍길동\", \"나이\" : 20, \"성별\" : \"남자\"}\n",
    "\n",
    "# 추가(update)\n",
    "dict1.update(몸무게 = 60)\n",
    "print(dict1)\n",
    "\n",
    "# 추가(대괄호 활용)\n",
    "dict1['시력'] = 1.8\n",
    "print(dict1)\n",
    "\n",
    "# 삭제(pop)\n",
    "dict1.pop(\"시력\")\n",
    "print(dict1)\n",
    "\n",
    "# 삭제(del)\n",
    "del dict1[\"몸무게\"]\n",
    "print(dict1)\n",
    "\n",
    "# 모든 값 삭제(clear)\n",
    "dict1.clear()\n",
    "print(dict1)"
   ]
  },
  {
   "cell_type": "code",
   "execution_count": 51,
   "id": "9835256c-4b2f-4b18-9619-569bce491ec1",
   "metadata": {},
   "outputs": [
    {
     "name": "stdout",
     "output_type": "stream",
     "text": [
      "10\n",
      "dict_keys(['a', 'b', 'c', 'd'])\n",
      "dict_values([10, 20, 30, 40])\n",
      "dict_items([('a', 10), ('b', 20), ('c', 30), ('d', 40)])\n"
     ]
    }
   ],
   "source": [
    "# 딕셔너리 조작하기\n",
    "\n",
    "# 키의 값을 가져오기\n",
    "dict1 = {'a': 10, 'b': 20, 'c': 30, 'd': 40}\n",
    "print(dict1.get('a'))\n",
    "\n",
    "# key값 가져오기\n",
    "print(dict1.keys())\n",
    "\n",
    "# value값 가져오기\n",
    "print(dict1.values())\n",
    "\n",
    "# key값 value값을 모두 가져오기\n",
    "print(dict1.items())"
   ]
  }
 ],
 "metadata": {
  "kernelspec": {
   "display_name": "Python 3 (ipykernel)",
   "language": "python",
   "name": "python3"
  },
  "language_info": {
   "codemirror_mode": {
    "name": "ipython",
    "version": 3
   },
   "file_extension": ".py",
   "mimetype": "text/x-python",
   "name": "python",
   "nbconvert_exporter": "python",
   "pygments_lexer": "ipython3",
   "version": "3.11.7"
  }
 },
 "nbformat": 4,
 "nbformat_minor": 5
}
