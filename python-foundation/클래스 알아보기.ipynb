{
 "cells": [
  {
   "cell_type": "markdown",
   "id": "124c43c0",
   "metadata": {},
   "source": [
    "# 클래스\n",
    "- 클래스는 붕어빵 틀, 객체는 붕어빵이라고 생각하면 된다.\n",
    "- 클래스를 사용할 때는 인스턴스를 생성하여 사용해야한다.\n",
    "- 객체와 인스턴스는 같은 의미이지만 객체만을 표현할 때는 객체라고 하며 클래스와 연관지어서 말할 때는 인스턴스라고 한다."
   ]
  },
  {
   "cell_type": "markdown",
   "id": "5abee791",
   "metadata": {},
   "source": [
    "## 클래스의 메서드\n",
    "- 클래스 안에 구현되어 있는 함수를 메서드라고 한다.\n",
    "- 메서드의 첫 매개변수는 self로 작성한다.\n",
    "- 객체를 통해 클래스의 메서드를 호출할 때는 도트(.)을 사용한다."
   ]
  },
  {
   "cell_type": "code",
   "execution_count": 1,
   "id": "3ba6c664",
   "metadata": {},
   "outputs": [
    {
     "name": "stdout",
     "output_type": "stream",
     "text": [
      "오버워치입니다.\n",
      "리그오브레전드입니다.\n"
     ]
    }
   ],
   "source": [
    "class Game: # 클래스 생성\n",
    "    def OverWatch(self): # 클래스의 메서드(첫 매개변수 self)\n",
    "        print(\"오버워치입니다.\")\n",
    "    \n",
    "    def LeagueOfLegends(self): # 클래스의 메서드(첫 매개변수 self)\n",
    "        print(\"리그오브레전드입니다.\")\n",
    "        \n",
    "game = Game() # 인스턴스 생성\n",
    "game.OverWatch() # 인스턴스에 도트를 사용하여 메서드 호출\n",
    "game.LeagueOfLegends()"
   ]
  },
  {
   "cell_type": "markdown",
   "id": "4c33520b",
   "metadata": {},
   "source": [
    "# 클래스의 속성 알아보기"
   ]
  },
  {
   "cell_type": "markdown",
   "id": "b981f4ec",
   "metadata": {},
   "source": [
    "## 인스턴스 속성\n",
    "- 속성을 만들 때는 __init__ 메서드 안에서 self.속성에 값을 할당한다.\n",
    "- self매개변수에는 인스턴스 자기 자신이 들어간다."
   ]
  },
  {
   "cell_type": "code",
   "execution_count": 3,
   "id": "120b43ff",
   "metadata": {},
   "outputs": [
    {
     "name": "stdout",
     "output_type": "stream",
     "text": [
      "안녕하세요! 오버워치입니다.\n",
      "안녕하세요! 리그오브레전드입니다.\n"
     ]
    }
   ],
   "source": [
    "class Game: \n",
    "    def __init__(self):\n",
    "        self.hello = \"안녕하세요!\"\n",
    "    \n",
    "    def OverWatch(self):\n",
    "        print(self.hello, \"오버워치입니다.\")\n",
    "    \n",
    "    def LeagueOfLegends(self):\n",
    "        print(self.hello, \"리그오브레전드입니다.\")\n",
    "        \n",
    "game = Game() \n",
    "game.OverWatch()\n",
    "game.LeagueOfLegends()"
   ]
  },
  {
   "cell_type": "code",
   "execution_count": 12,
   "id": "995e48b3",
   "metadata": {},
   "outputs": [
    {
     "name": "stdout",
     "output_type": "stream",
     "text": [
      "안녕하세요! 오버워치입니다.\n",
      "게임 아이디 : honggildong\n",
      "\n",
      "안녕하세요! 리그오브레전드입니다.\n",
      "게임 아이디 : honggildong\n"
     ]
    }
   ],
   "source": [
    "# self.속성을 사용해서 값을 받아 클래스의 속성으로 만들 수 있다.\n",
    "\n",
    "class Game: \n",
    "    def __init__(self, id):\n",
    "        self.hello = \"안녕하세요!\"\n",
    "        self.id = id\n",
    "        \n",
    "    def OverWatch(self):\n",
    "        print(self.hello, \"오버워치입니다.\")\n",
    "        print(f\"게임 아이디 : {self.id}\")\n",
    "    \n",
    "    def LeagueOfLegends(self):\n",
    "        print(self.hello, \"리그오브레전드입니다.\")\n",
    "        print(f\"게임 아이디 : {self.id}\")\n",
    "        \n",
    "game = Game(\"honggildong\") \n",
    "game.OverWatch()\n",
    "print() # 줄바꿈용\n",
    "game.LeagueOfLegends()"
   ]
  },
  {
   "cell_type": "markdown",
   "id": "22129fee",
   "metadata": {},
   "source": [
    "### 비공개 인스턴스 속성\n",
    "- 위에서 알아본 속성은 클래스 외부에서 접근할 수 있었다.\n",
    "- 외부에서 접근할 수 없는 비공개 속성도 있다.\n",
    "- 밑줄 두 개를 쓰면 비공개 속성을 만들 수 있다."
   ]
  },
  {
   "cell_type": "code",
   "execution_count": 15,
   "id": "a75a601d",
   "metadata": {},
   "outputs": [
    {
     "name": "stdout",
     "output_type": "stream",
     "text": [
      "안녕하세요! 오버워치입니다.\n",
      "게임 아이디 : honggildong\n",
      "게임 비밀번호 : python\n",
      "\n",
      "안녕하세요! 리그오브레전드입니다.\n",
      "게임 아이디 : honggildong\n",
      "게임 비밀번호 : python\n"
     ]
    }
   ],
   "source": [
    "class Game: \n",
    "    def __init__(self, id, pw):\n",
    "        self.hello = \"안녕하세요!\"\n",
    "        self.id = id\n",
    "        self.__pw = pw\n",
    "        \n",
    "    def OverWatch(self):\n",
    "        print(self.hello, \"오버워치입니다.\")\n",
    "        print(f\"게임 아이디 : {self.id}\")\n",
    "        print(f\"게임 비밀번호 : {self.__pw}\")\n",
    "    \n",
    "    def LeagueOfLegends(self):\n",
    "        print(self.hello, \"리그오브레전드입니다.\")\n",
    "        print(f\"게임 아이디 : {self.id}\")\n",
    "        print(f\"게임 비밀번호 : {self.__pw}\")\n",
    "        \n",
    "game = Game(\"honggildong\", \"python\") \n",
    "game.OverWatch()\n",
    "print() # 줄바꿈용\n",
    "game.LeagueOfLegends()"
   ]
  },
  {
   "cell_type": "code",
   "execution_count": 16,
   "id": "7c9deabe",
   "metadata": {},
   "outputs": [
    {
     "ename": "AttributeError",
     "evalue": "'Game' object has no attribute '__pw'",
     "output_type": "error",
     "traceback": [
      "\u001b[1;31m---------------------------------------------------------------------------\u001b[0m",
      "\u001b[1;31mAttributeError\u001b[0m                            Traceback (most recent call last)",
      "Cell \u001b[1;32mIn[16], line 4\u001b[0m\n\u001b[0;32m      1\u001b[0m \u001b[38;5;66;03m# 외부에서 비공개 속성에 접근하면 에러 발생\u001b[39;00m\n\u001b[0;32m      2\u001b[0m \u001b[38;5;66;03m# 비공개 속성은 클래스 내부의 메서드에서밖에 접근할 수 없다.\u001b[39;00m\n\u001b[0;32m      3\u001b[0m game \u001b[38;5;241m=\u001b[39m Game(\u001b[38;5;124m\"\u001b[39m\u001b[38;5;124mhonggildong\u001b[39m\u001b[38;5;124m\"\u001b[39m, \u001b[38;5;124m\"\u001b[39m\u001b[38;5;124mpython\u001b[39m\u001b[38;5;124m\"\u001b[39m) \n\u001b[1;32m----> 4\u001b[0m \u001b[38;5;28mprint\u001b[39m(game\u001b[38;5;241m.\u001b[39m__pw)\n",
      "\u001b[1;31mAttributeError\u001b[0m: 'Game' object has no attribute '__pw'"
     ]
    }
   ],
   "source": [
    "# 외부에서 비공개 속성에 접근하면 에러 발생\n",
    "# 비공개 속성은 클래스 내부의 메서드에서밖에 접근할 수 없다.\n",
    "game = Game(\"honggildong\", \"python\") \n",
    "print(game.__pw)"
   ]
  },
  {
   "cell_type": "markdown",
   "id": "46e76264",
   "metadata": {},
   "source": [
    "## 클래스 속성\n",
    "- 클래스 속성은 모든 인스턴스에서 공유한다.\n",
    "- 밑 결과와 같이 다른 인스턴스임에도 트레이서와 야스오가 출력되는 것을 알 수 있다.\n",
    "- 밑줄 두 개를 사용해서 비공개 클래스 속성을 만들 수 있다."
   ]
  },
  {
   "cell_type": "code",
   "execution_count": 20,
   "id": "6c3a08d7",
   "metadata": {},
   "outputs": [
    {
     "name": "stdout",
     "output_type": "stream",
     "text": [
      "안녕하세요! 오버워치입니다.\n",
      "게임 아이디 : honggildong\n",
      "게임 비밀번호 : python\n",
      "----------\n",
      "안녕하세요! 리그오브레전드입니다.\n",
      "게임 아이디 : TUK\n",
      "게임 비밀번호 : c++\n",
      "----------\n",
      "['트레이서', '야스오']\n",
      "['트레이서', '야스오']\n"
     ]
    }
   ],
   "source": [
    "class Game: \n",
    "    char = []\n",
    "    \n",
    "    def __init__(self, id, pw):\n",
    "        self.hello = \"안녕하세요!\"\n",
    "        self.id = id\n",
    "        self.__pw = pw\n",
    "        \n",
    "    def OverWatch(self, char):\n",
    "        print(self.hello, \"오버워치입니다.\")\n",
    "        print(f\"게임 아이디 : {self.id}\")\n",
    "        print(f\"게임 비밀번호 : {self.__pw}\")\n",
    "        self.char.append(char)\n",
    "    \n",
    "    def LeagueOfLegends(self, char):\n",
    "        print(self.hello, \"리그오브레전드입니다.\")\n",
    "        print(f\"게임 아이디 : {self.id}\")\n",
    "        print(f\"게임 비밀번호 : {self.__pw}\")\n",
    "        self.char.append(char)\n",
    "        \n",
    "game1 = Game(\"honggildong\", \"python\") \n",
    "game2 = Game(\"TUK\", \"c++\")\n",
    "game1.OverWatch(\"트레이서\")\n",
    "print(\"----------\")\n",
    "game2.LeagueOfLegends(\"야스오\")\n",
    "print(\"----------\") \n",
    "print(game1.char)\n",
    "print(game2.char)"
   ]
  },
  {
   "cell_type": "markdown",
   "id": "c8b49b3f",
   "metadata": {},
   "source": [
    "### 비공개 클래스 속성\n",
    "- 외부에서 접근할 수 없는 비공개 클래스 속성을 만들 수 있다.\n",
    "- 클래스 내부에서만 접근이 가능하다."
   ]
  },
  {
   "cell_type": "code",
   "execution_count": 23,
   "id": "60396c30",
   "metadata": {},
   "outputs": [
    {
     "name": "stdout",
     "output_type": "stream",
     "text": [
      "안녕하세요! 오버워치입니다.\n",
      "게임 아이디 : honggildong\n",
      "게임 비밀번호 : python\n",
      "기밀입니다.\n",
      "----------\n",
      "안녕하세요! 리그오브레전드입니다.\n",
      "게임 아이디 : TUK\n",
      "게임 비밀번호 : c++\n",
      "기밀입니다.\n",
      "----------\n",
      "['트레이서', '야스오']\n",
      "['트레이서', '야스오']\n"
     ]
    }
   ],
   "source": [
    "# 비공개 클래스 속성\n",
    "class Game: \n",
    "    char = []\n",
    "    __game_secret = \"기밀입니다.\"\n",
    "    \n",
    "    def __init__(self, id, pw):\n",
    "        self.hello = \"안녕하세요!\"\n",
    "        self.id = id\n",
    "        self.__pw = pw\n",
    "        \n",
    "    def OverWatch(self, char):\n",
    "        print(self.hello, \"오버워치입니다.\")\n",
    "        print(f\"게임 아이디 : {self.id}\")\n",
    "        print(f\"게임 비밀번호 : {self.__pw}\")\n",
    "        print(Game.__game_secret)\n",
    "        self.char.append(char)\n",
    "    \n",
    "    def LeagueOfLegends(self, char):\n",
    "        print(self.hello, \"리그오브레전드입니다.\")\n",
    "        print(f\"게임 아이디 : {self.id}\")\n",
    "        print(f\"게임 비밀번호 : {self.__pw}\")\n",
    "        print(Game.__game_secret)\n",
    "        self.char.append(char)\n",
    "        \n",
    "game1 = Game(\"honggildong\", \"python\") \n",
    "game2 = Game(\"TUK\", \"c++\")\n",
    "game1.OverWatch(\"트레이서\")\n",
    "print(\"----------\")\n",
    "game2.LeagueOfLegends(\"야스오\")\n",
    "print(\"----------\") \n",
    "print(game1.char)\n",
    "print(game2.char)"
   ]
  },
  {
   "cell_type": "markdown",
   "id": "7d233cd6",
   "metadata": {},
   "source": [
    "# 클래스의 메서드 알아보기"
   ]
  },
  {
   "cell_type": "markdown",
   "id": "add08e55",
   "metadata": {},
   "source": [
    "## 정적 메서드\n",
    "- self를 사용하지 않는 메서드이다.\n",
    "- 호출할 때 인스턴스를 통하지 않고 클래스명으로 바로 호출이 가능하다."
   ]
  },
  {
   "cell_type": "code",
   "execution_count": 25,
   "id": "ddc282aa",
   "metadata": {},
   "outputs": [
    {
     "name": "stdout",
     "output_type": "stream",
     "text": [
      "3\n",
      "5\n"
     ]
    }
   ],
   "source": [
    "# @staticmethod를 통해 정적 메서드를 만들 수 있다.\n",
    "class Calc:\n",
    "    @staticmethod\n",
    "    def add(x, y):\n",
    "        print(x + y)\n",
    "        \n",
    "    @staticmethod\n",
    "    def mul(x, y):\n",
    "        print(x * y)\n",
    "        \n",
    "Calc.add(1, 2)\n",
    "Calc.add(2, 3)"
   ]
  },
  {
   "cell_type": "markdown",
   "id": "207db18a",
   "metadata": {},
   "source": [
    "## 클래스 메서드\n",
    "- self 대신 cls를 사용한다.\n",
    "- 클래스 속성과 함께 사용하면 인스턴스가 몇 개 만들어졌는지 카운팅할 수 있다."
   ]
  },
  {
   "cell_type": "code",
   "execution_count": 27,
   "id": "924cef74",
   "metadata": {},
   "outputs": [
    {
     "name": "stdout",
     "output_type": "stream",
     "text": [
      "게임의 개수 : 2\n"
     ]
    }
   ],
   "source": [
    "class Game:\n",
    "    count = 0    # 클래스 속성\n",
    " \n",
    "    def __init__(self):\n",
    "        Game.count += 1   \n",
    "                             \n",
    "    @classmethod\n",
    "    def print_count(cls):\n",
    "        print(f\"게임의 개수 : {cls.count}\")    # cls로 클래스 속성에 접근\n",
    " \n",
    "ow = Game()\n",
    "lol = Game()\n",
    " \n",
    "Game.print_count()   "
   ]
  },
  {
   "cell_type": "markdown",
   "id": "c4c2c590",
   "metadata": {},
   "source": [
    "# 클래스의 상속\n",
    "- 다른 클래스에 기능을 물려주는 방법이다.\n",
    "- 기능을 물려주는 클래스를 기반 클래스(base class)라고 한다.\n",
    "- 기능을 물려받는 클래스를 파생 클래스(derived class)라고 한다."
   ]
  },
  {
   "cell_type": "code",
   "execution_count": 29,
   "id": "59046ae4",
   "metadata": {},
   "outputs": [
    {
     "name": "stdout",
     "output_type": "stream",
     "text": [
      "공부합시다!\n",
      "코딩합시다!\n"
     ]
    }
   ],
   "source": [
    "# study메서드가 상속되었다.\n",
    "class University():\n",
    "    def study(self):\n",
    "        print(\"공부합시다!\")\n",
    "        \n",
    "class Computer(University):\n",
    "    def coding(self):\n",
    "        print(\"코딩합시다!\")\n",
    "        \n",
    "hong = Computer()\n",
    "hong.study()\n",
    "hong.coding()"
   ]
  },
  {
   "cell_type": "markdown",
   "id": "113ac255",
   "metadata": {},
   "source": [
    "## 기반 클래스를 활용하기\n",
    "- 기반 클래스의 속성 사용\n",
    "- 기반 클래스의 메서드 사용"
   ]
  },
  {
   "cell_type": "markdown",
   "id": "5f611f5d",
   "metadata": {},
   "source": [
    "### 기반 클래스의 속성 사용\n",
    "- 파생 클래스에서 기반 클래스의 속성을 사용할 수 있다.\n",
    "- super().init()을 사용해 기반 클래스의 속성을 호출하고 사용해야 한다."
   ]
  },
  {
   "cell_type": "code",
   "execution_count": 35,
   "id": "e342f809",
   "metadata": {},
   "outputs": [
    {
     "name": "stdout",
     "output_type": "stream",
     "text": [
      "파생 클래스의 __init__메서드입니다.\n",
      "기반 클래스의 __init__메서드입니다.\n",
      "대학입니다.\n"
     ]
    }
   ],
   "source": [
    "class University():\n",
    "    def __init__(self):\n",
    "        print(\"기반 클래스의 __init__메서드입니다.\")\n",
    "        self.info = \"대학입니다.\"\n",
    "        \n",
    "    def study(self):\n",
    "        print(\"공부합시다!\")\n",
    "        \n",
    "class Computer(University):\n",
    "    def __init__(self):\n",
    "        print(\"파생 클래스의 __init__메서드입니다.\")\n",
    "        super().__init__()\n",
    "        \n",
    "    def coding(self):\n",
    "        print(\"코딩합시다!\")\n",
    "        \n",
    "hong = Computer()\n",
    "print(hong.info)"
   ]
  },
  {
   "cell_type": "markdown",
   "id": "e42f466e",
   "metadata": {},
   "source": [
    "### 기반 클래스의 메서드 사용\n",
    "- 메서드 오버라이딩이라고 한다.\n",
    "- 파생 클래스에서 기반 클래스의 메서드명과 같은 메서드를 만들어야할 때 사용한다."
   ]
  },
  {
   "cell_type": "code",
   "execution_count": 38,
   "id": "277186eb",
   "metadata": {},
   "outputs": [
    {
     "name": "stdout",
     "output_type": "stream",
     "text": [
      "공부합시다!\n",
      "공부해요!\n",
      "None\n"
     ]
    }
   ],
   "source": [
    "class University():\n",
    "    def __init__(self):\n",
    "        self.info = \"대학입니다.\"\n",
    "        \n",
    "    def study(self):\n",
    "        print(\"공부합시다!\")\n",
    "        \n",
    "class Computer(University):\n",
    "    def __init__(self):\n",
    "        super().__init__()\n",
    "        \n",
    "    def study(self):\n",
    "        super().study()\n",
    "        print(\"공부해요!\")\n",
    "        \n",
    "        \n",
    "hong = Computer()\n",
    "print(hong.study())"
   ]
  },
  {
   "cell_type": "markdown",
   "id": "6eaaf41e",
   "metadata": {},
   "source": [
    "# 다중 상속\n",
    "- 여러 클래스로부터 상속을 받아야할 때 사용한다.\n",
    "- 일반적인 상속과 비슷하게 파생 클래스 선언 시 기반 클래스의 이름을 넣어주기만 하면 된다."
   ]
  },
  {
   "cell_type": "code",
   "execution_count": 42,
   "id": "9d205c71",
   "metadata": {},
   "outputs": [
    {
     "name": "stdout",
     "output_type": "stream",
     "text": [
      "공부합시다!\n",
      "컴퓨터 공학과\n",
      "안녕하세요!\n"
     ]
    }
   ],
   "source": [
    "class University():      \n",
    "    def study(self):\n",
    "        print(\"공부합시다!\")\n",
    "        \n",
    "class Major:\n",
    "    def computer(self):\n",
    "        print(\"컴퓨터 공학과\")\n",
    "\n",
    "class Student(University, Major):\n",
    "    def greet(self):\n",
    "        print(\"안녕하세요!\")\n",
    "        \n",
    "stu = Student()\n",
    "stu.study()\n",
    "stu.computer()\n",
    "stu.greet()"
   ]
  },
  {
   "cell_type": "markdown",
   "id": "e6fc9a31",
   "metadata": {},
   "source": [
    "# 추상 클래스\n",
    "- 추상 메서드는 코드가 없는 빈 메서드로 만든다.\n",
    "- 추상 메서드를 상속 받았을 때는 무조건 추상 메서드를 모두 구현해야 한다.\n",
    "- 추상 메서드에 구현해야 할 메서드를 정해줄 때 사용한다."
   ]
  },
  {
   "cell_type": "code",
   "execution_count": 44,
   "id": "cf34d9ad",
   "metadata": {},
   "outputs": [
    {
     "name": "stdout",
     "output_type": "stream",
     "text": [
      "전자공학과\n",
      "안녕하세요!\n"
     ]
    }
   ],
   "source": [
    "from abc import * # 추상메서드를 사용하기 위해 import를 해준다.\n",
    "\n",
    "class University(metaclass = ABCMeta): # 추상 클래스를 만들 클래스에 metaclass = ABCMeta를 넣어준다.\n",
    "    @abstractmethod # 추상 클래스 위에 @abstarticmethod를 붙여준다.\n",
    "    def major(self):\n",
    "        pass # 추상 클래스는 인스턴스로 만들 수 없으므로 pass를 해준다.\n",
    "    \n",
    "    def study(self):\n",
    "        print(\"공부합시다!\")\n",
    "\n",
    "class Student(University):\n",
    "    def major(self): # 추상 클래스를 구현하지 않으면 에러가 발생한다. / Can't instantiate abstract class\n",
    "        print(\"전자공학과\")\n",
    "        \n",
    "    def greet(self):\n",
    "        print(\"안녕하세요!\")\n",
    "        \n",
    "student = Student()\n",
    "student.major()\n",
    "student.greet()"
   ]
  }
 ],
 "metadata": {
  "kernelspec": {
   "display_name": "Python 3 (ipykernel)",
   "language": "python",
   "name": "python3"
  },
  "language_info": {
   "codemirror_mode": {
    "name": "ipython",
    "version": 3
   },
   "file_extension": ".py",
   "mimetype": "text/x-python",
   "name": "python",
   "nbconvert_exporter": "python",
   "pygments_lexer": "ipython3",
   "version": "3.11.5"
  }
 },
 "nbformat": 4,
 "nbformat_minor": 5
}
