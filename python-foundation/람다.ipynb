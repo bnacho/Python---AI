{
 "cells": [
  {
   "cell_type": "markdown",
   "id": "68108e93-ad1d-463e-a74e-b1371d7ac7c8",
   "metadata": {},
   "source": [
    "# 람다\n",
    "- 익명함수라고 하며 함수를 간단하게 만들 수 있다.\n",
    "- 보통 map, filter, reduce함수와 같이 사용한다."
   ]
  },
  {
   "cell_type": "markdown",
   "id": "5a8fae05-8d8a-4dae-b01d-abd6ed393572",
   "metadata": {},
   "source": [
    "## 람다의 기초 사용법"
   ]
  },
  {
   "cell_type": "code",
   "execution_count": 1,
   "id": "28cd9cea-547f-40f4-ae9b-c16162197f82",
   "metadata": {},
   "outputs": [
    {
     "name": "stdout",
     "output_type": "stream",
     "text": [
      "20\n"
     ]
    }
   ],
   "source": [
    "# 기존 함수 구현법\n",
    "def plus_ten(x):\n",
    "    return x + 10\n",
    "\n",
    "result = plus_ten(10)\n",
    "print(result)"
   ]
  },
  {
   "cell_type": "code",
   "execution_count": 2,
   "id": "06f4cafc-e2f7-4e4f-bbf7-e4596a0d18f7",
   "metadata": {},
   "outputs": [
    {
     "name": "stdout",
     "output_type": "stream",
     "text": [
      "20\n"
     ]
    }
   ],
   "source": [
    "# 림다를 이용한 구현법\n",
    "plus = lambda x : x + 10\n",
    "print(plus(10))"
   ]
  },
  {
   "cell_type": "markdown",
   "id": "cfe3eb0c-6311-4341-b366-177667f08bf8",
   "metadata": {},
   "source": [
    "## 람다를 활용하는 방법\n",
    "- 람다 표현식 자체를 호출\n",
    "- map, filter, reduce함수와 함께 사용하기"
   ]
  },
  {
   "cell_type": "markdown",
   "id": "728d0b55-fcca-4ce3-b2f2-8eea069a4733",
   "metadata": {},
   "source": [
    "### 람다 표현식 자체를 호출하기\n",
    "- 별도의 변수에 저장하지 않고 바로 호출하는 방법이다."
   ]
  },
  {
   "cell_type": "code",
   "execution_count": 4,
   "id": "66baac1c-63fa-4a7e-8a45-502b61a4d454",
   "metadata": {},
   "outputs": [
    {
     "data": {
      "text/plain": [
       "15"
      ]
     },
     "execution_count": 4,
     "metadata": {},
     "output_type": "execute_result"
    }
   ],
   "source": [
    "y = 5\n",
    "(lambda x: x + y)(10)"
   ]
  },
  {
   "cell_type": "markdown",
   "id": "31ee43f2-c3cd-4b0d-8756-fb77bc8fa33b",
   "metadata": {},
   "source": [
    "### map함수와 함께 사용하기\n",
    "- map함수는 리스트의 요소 하나하나를 순서대로 각각 처리한다."
   ]
  },
  {
   "cell_type": "code",
   "execution_count": 8,
   "id": "50bc4fc3-483b-4790-bd71-eb3a21bad1ab",
   "metadata": {},
   "outputs": [
    {
     "name": "stdout",
     "output_type": "stream",
     "text": [
      "[2, 3, 4, 5, 6]\n"
     ]
    }
   ],
   "source": [
    "# 1부터 5까지 하나씩 1을 더해준다.\n",
    "a = [1, 2, 3, 4, 5]\n",
    "a = list(map(lambda x: x + 1, a))\n",
    "print(a)"
   ]
  },
  {
   "cell_type": "code",
   "execution_count": 9,
   "id": "6a240db9-31ec-4d45-af72-3484352bc1f9",
   "metadata": {},
   "outputs": [
    {
     "name": "stdout",
     "output_type": "stream",
     "text": [
      "[2, 8, 18, 32, 50]\n"
     ]
    }
   ],
   "source": [
    "a = [1, 2, 3, 4, 5]\n",
    "b = [2, 4, 6, 8, 10]\n",
    "c = list(map(lambda x, y: x * y, a, b))\n",
    "print(c)"
   ]
  },
  {
   "cell_type": "markdown",
   "id": "792e3e83-72e7-4d70-951d-3952e10b48f0",
   "metadata": {},
   "source": [
    "### filter함수와 함께 사용하기\n",
    "- filter함수는 참인 요소는 가져오고 거짓인 요소는 제거한다.\n",
    "- 밑 코드에서 자료형이 문자열이면 참이므로 문자열인 요소만 가져온다."
   ]
  },
  {
   "cell_type": "code",
   "execution_count": 12,
   "id": "7d189c20-4b30-4e39-8743-cc243b11cb4a",
   "metadata": {},
   "outputs": [
    {
     "name": "stdout",
     "output_type": "stream",
     "text": [
      "['a', 'b']\n"
     ]
    }
   ],
   "source": [
    "a = ['a', 1, 3.0, True, 'b']\n",
    "b = list(filter(lambda x : type(x) == str, a))\n",
    "print(b)"
   ]
  },
  {
   "cell_type": "markdown",
   "id": "419956ea-5ccf-4efe-9fb8-51216dd4d489",
   "metadata": {},
   "source": [
    "### reduce함수와 함께 사용하기\n",
    "- reduce함수는 파이썬3부터 내장함수가 아니므로 불러와야한다.\n",
    "- from functools import reduce로 불러올 수 있다.\n",
    "- reduce함수는 각 요소를 처리하면서 결과를 누적합니다."
   ]
  },
  {
   "cell_type": "code",
   "execution_count": 14,
   "id": "08815888-c3a4-46ba-9a1e-7ba3c1e45b0b",
   "metadata": {},
   "outputs": [
    {
     "data": {
      "text/plain": [
       "15"
      ]
     },
     "execution_count": 14,
     "metadata": {},
     "output_type": "execute_result"
    }
   ],
   "source": [
    "# reduce함수 설명\n",
    "# 처음에 1 + 2를 먼저 하고 그 결과에 3을 더하고 더한 결과에 4를 더하는 과정을 진행한다.\n",
    "from functools import reduce\n",
    "def plus(x, y):\n",
    "    return x + y\n",
    "\n",
    "a = [1, 2, 3, 4, 5]\n",
    "reduce(plus, a)"
   ]
  },
  {
   "cell_type": "code",
   "execution_count": 15,
   "id": "dada0336-7360-4ecc-95a3-acbce9dac2aa",
   "metadata": {},
   "outputs": [
    {
     "name": "stdout",
     "output_type": "stream",
     "text": [
      "15\n"
     ]
    }
   ],
   "source": [
    "# 위 코드를 람다를 활용해서 구현하기\n",
    "from functools import reduce\n",
    "a = [1, 2, 3, 4, 5]\n",
    "print(reduce(lambda x, y : x + y, a))"
   ]
  }
 ],
 "metadata": {
  "kernelspec": {
   "display_name": "Python 3 (ipykernel)",
   "language": "python",
   "name": "python3"
  },
  "language_info": {
   "codemirror_mode": {
    "name": "ipython",
    "version": 3
   },
   "file_extension": ".py",
   "mimetype": "text/x-python",
   "name": "python",
   "nbconvert_exporter": "python",
   "pygments_lexer": "ipython3",
   "version": "3.11.7"
  }
 },
 "nbformat": 4,
 "nbformat_minor": 5
}
