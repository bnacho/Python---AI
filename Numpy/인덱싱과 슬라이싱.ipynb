{
 "cells": [
  {
   "cell_type": "markdown",
   "id": "74e5e452",
   "metadata": {},
   "source": [
    "# 넘파이의 인덱싱과 슬라이싱\n",
    "- 넘파이 배열도 인덱싱과 슬라이싱이 가능하다."
   ]
  },
  {
   "cell_type": "code",
   "execution_count": 1,
   "id": "1b5810c5",
   "metadata": {},
   "outputs": [],
   "source": [
    "import numpy as np"
   ]
  },
  {
   "cell_type": "markdown",
   "id": "0dfe8c70",
   "metadata": {},
   "source": [
    "# 1차원 배열\n",
    "- 1차원 배열은 리스트와 거의 동일하다."
   ]
  },
  {
   "cell_type": "markdown",
   "id": "ddeb5ad9",
   "metadata": {},
   "source": [
    "## 1차원 배열의 인덱싱\n",
    "- 리스트에서 인덱싱 하는 방법과 동일하다."
   ]
  },
  {
   "cell_type": "code",
   "execution_count": 3,
   "id": "91fac4f8",
   "metadata": {},
   "outputs": [
    {
     "name": "stdout",
     "output_type": "stream",
     "text": [
      "[0 1 2 3 4 5 6 7 8 9]\n",
      "0\n",
      "1\n",
      "9\n"
     ]
    }
   ],
   "source": [
    "arr = np.arange(10)\n",
    "print(arr)\n",
    "print(arr[0])\n",
    "print(arr[1])\n",
    "print(arr[-1])"
   ]
  },
  {
   "cell_type": "markdown",
   "id": "9bfc70f1",
   "metadata": {},
   "source": [
    "## 1차원 배열의 슬라이싱\n",
    "- 기본적으로는 리스트와 같으나 다른 점이 있다.\n",
    "- 넘파이 배열의 슬라이싱은 새로운 객체를 만드는 것이 아니다.\n",
    "- 새로운 객체를 만들려면 .copy()를 사용해야 한다."
   ]
  },
  {
   "cell_type": "code",
   "execution_count": 4,
   "id": "f7041fe4",
   "metadata": {},
   "outputs": [
    {
     "name": "stdout",
     "output_type": "stream",
     "text": [
      "[0 1 2 3 4 5 6 7 8 9]\n",
      "[5 6 7]\n"
     ]
    }
   ],
   "source": [
    "arr = np.arange(10)\n",
    "print(arr)\n",
    "print(arr[5:8])"
   ]
  },
  {
   "cell_type": "code",
   "execution_count": 7,
   "id": "1387c249",
   "metadata": {},
   "outputs": [
    {
     "name": "stdout",
     "output_type": "stream",
     "text": [
      "[0 1 2 3 4 5 6 7 8 9]\n",
      "[5 6 7]\n",
      "[   0    1    2    3    4 1000    6    7    8    9]\n"
     ]
    }
   ],
   "source": [
    "arr = np.arange(10)\n",
    "print(arr)\n",
    "\n",
    "# 슬라이싱 한 것을 다른 변수에 저장\n",
    "arr_slicing = arr[5:8]\n",
    "print(arr_slicing)\n",
    "\n",
    "# 슬라이싱 결과가 저장된 변수에 첫 번째 원소를 변경\n",
    "arr_slicing[0] = 1000\n",
    "# 하지만 원래 변수에 영향이 간다.\n",
    "print(arr)\n",
    "\n",
    "# 즉 넘파이 배열의 슬라이싱은 새로운 객체를 만드는 것이 아닌\n",
    "# 원래 배열에 대한 view이다."
   ]
  },
  {
   "cell_type": "code",
   "execution_count": 9,
   "id": "4ae3fe21",
   "metadata": {},
   "outputs": [
    {
     "name": "stdout",
     "output_type": "stream",
     "text": [
      "[0 1 2 3 4 5 6 7 8 9]\n",
      "[5 6 7]\n",
      "[0 1 2 3 4 5 6 7 8 9]\n"
     ]
    }
   ],
   "source": [
    "# 새로운 객체 만드는 방법\n",
    "arr = np.arange(10)\n",
    "print(arr)\n",
    "\n",
    "# 슬라이싱 한 것을 다른 변수에 카피한다.\n",
    "arr_slicing = arr[5:8].copy()\n",
    "print(arr_slicing)\n",
    "\n",
    "# 슬라이싱 결과가 저장된 변수에 첫 번째 원소를 변경\n",
    "arr_slicing[0] = 1000\n",
    "# 이번에는 원래 배열에 영향이 가지 않는다.\n",
    "print(arr)"
   ]
  },
  {
   "cell_type": "markdown",
   "id": "de3097dd",
   "metadata": {},
   "source": [
    "# 2차원 배열\n",
    "- 2차원 배열의 원소는 스칼라가 아닌 1차원 벡터이다.\n",
    "- 각각의 1차원 벡터의 원소에 접근하려면 대괄호를 두 번 써야한다.\n",
    "- 쉼표를 사용해도 1차원 벡터의 원소에 접근할 수 있다."
   ]
  },
  {
   "cell_type": "markdown",
   "id": "dc8dd661",
   "metadata": {},
   "source": [
    "## 2차원 배열의 인덱싱"
   ]
  },
  {
   "cell_type": "code",
   "execution_count": 14,
   "id": "4d3cd1b4",
   "metadata": {},
   "outputs": [
    {
     "name": "stdout",
     "output_type": "stream",
     "text": [
      "[1 2 3]\n",
      "1\n",
      "1\n"
     ]
    }
   ],
   "source": [
    "# 2차원 배열의 인덱싱\n",
    "arr2d = np.array([[1, 2, 3], [4, 5, 6], [7, 8, 9]])\n",
    "print(arr2d[0])\n",
    "print(arr2d[0][0])\n",
    "print(arr2d[0,0])"
   ]
  },
  {
   "cell_type": "markdown",
   "id": "b0fe48f4",
   "metadata": {},
   "source": [
    "## 2차원 배열의 슬라이싱"
   ]
  },
  {
   "cell_type": "code",
   "execution_count": 17,
   "id": "994f2f1b",
   "metadata": {},
   "outputs": [
    {
     "name": "stdout",
     "output_type": "stream",
     "text": [
      "[[1 2 3]\n",
      " [4 5 6]]\n",
      "[[1]\n",
      " [4]]\n"
     ]
    }
   ],
   "source": [
    "# 2차원 배열의 슬라이싱\n",
    "arr2d = np.array([[1, 2, 3], [4, 5, 6], [7, 8, 9]])\n",
    "print(arr2d[:2])\n",
    "print(arr2d[:2, :1])"
   ]
  },
  {
   "cell_type": "markdown",
   "id": "76f3884c",
   "metadata": {},
   "source": [
    "# 다차원 배열\n",
    "- 각각의 원소가 무엇이 되는지 잘 살펴봐야 한다.\n",
    "- 3차원 배열의 경우 원소가 2차원 배열이 된다."
   ]
  },
  {
   "cell_type": "code",
   "execution_count": 19,
   "id": "16e62683",
   "metadata": {},
   "outputs": [
    {
     "name": "stdout",
     "output_type": "stream",
     "text": [
      "[[1 2 3]\n",
      " [4 5 6]]\n",
      "[1 2 3]\n",
      "1\n",
      "[[[1]]\n",
      "\n",
      " [[7]]]\n"
     ]
    }
   ],
   "source": [
    "arr3d = np.array([[[1, 2, 3], [4, 5, 6]], [[7, 8, 9], [10, 11, 12]]])\n",
    "print(arr3d[0])\n",
    "print(arr3d[0,0])\n",
    "print(arr3d[0,0,0])\n",
    "print(arr3d[:2, :1, :1])"
   ]
  }
 ],
 "metadata": {
  "kernelspec": {
   "display_name": "Python 3 (ipykernel)",
   "language": "python",
   "name": "python3"
  },
  "language_info": {
   "codemirror_mode": {
    "name": "ipython",
    "version": 3
   },
   "file_extension": ".py",
   "mimetype": "text/x-python",
   "name": "python",
   "nbconvert_exporter": "python",
   "pygments_lexer": "ipython3",
   "version": "3.11.5"
  }
 },
 "nbformat": 4,
 "nbformat_minor": 5
}
