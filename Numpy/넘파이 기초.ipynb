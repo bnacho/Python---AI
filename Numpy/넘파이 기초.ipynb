{
 "cells": [
  {
   "cell_type": "markdown",
   "id": "8ec670e6",
   "metadata": {},
   "source": [
    "# 넘파이(Numpy)\n",
    "- Numeric Python의 약자로 대규모 행렬, 배열 연산에 필요한 함수나 메서드들을 제공한다.\n",
    "- 특히 요즘 유행인 AI분야에서 널리 사용되고 있다."
   ]
  },
  {
   "cell_type": "markdown",
   "id": "dd0e4a1a",
   "metadata": {},
   "source": [
    "## 넘파이 설치 방법\n",
    "- 아나콘다를 사용한다면 따로 설치할 필요는 없다.\n",
    "- 만약 넘파이가 깔려있지 않다면 아래 코드로 설치할 수 있다."
   ]
  },
  {
   "cell_type": "code",
   "execution_count": 1,
   "id": "a9420a87",
   "metadata": {},
   "outputs": [
    {
     "name": "stdout",
     "output_type": "stream",
     "text": [
      "Requirement already satisfied: numpy in c:\\users\\mose7\\anaconda3\\lib\\site-packages (1.24.3)\n",
      "Note: you may need to restart the kernel to use updated packages.\n"
     ]
    }
   ],
   "source": [
    "pip install numpy"
   ]
  },
  {
   "cell_type": "markdown",
   "id": "51368148",
   "metadata": {},
   "source": [
    "## 넘파이 Import 하는 방법\n",
    "- import numpy as np로 Import할 수 있다.\n",
    "- numpy는 길기 때문에 보통 np로 줄여서 사용한다.\n",
    "- Import 시 as를 사용해서 별칭을 정해줄 수 있다."
   ]
  },
  {
   "cell_type": "code",
   "execution_count": null,
   "id": "d5bd7a38",
   "metadata": {},
   "outputs": [],
   "source": [
    "import numpy as np"
   ]
  },
  {
   "cell_type": "code",
   "execution_count": null,
   "id": "2d7a5320",
   "metadata": {},
   "outputs": [],
   "source": []
  },
  {
   "cell_type": "markdown",
   "id": "3ac8387b",
   "metadata": {},
   "source": [
    "# 넘파이 사용 방법"
   ]
  },
  {
   "cell_type": "markdown",
   "id": "3dff1e7c",
   "metadata": {},
   "source": [
    "## 기본적인 배열 생성 및 정보 확인\n",
    "- np.array를 통해 배열은 생성할 수 있다.\n",
    "- 여러 차원의 배열로 생성할 수 있으며 shape 속성을 통해 크기를 확인할 수 있다."
   ]
  },
  {
   "cell_type": "code",
   "execution_count": 8,
   "id": "20ff13f3",
   "metadata": {},
   "outputs": [
    {
     "name": "stdout",
     "output_type": "stream",
     "text": [
      "['트레이서' '겐지' '위도우메이커'] (3,)\n",
      "\n",
      "[['트레이서' '겐지']\n",
      " ['아리' '야스오']] (2, 2)\n",
      "\n",
      "[[['트레이서' '겐지']\n",
      "  ['정크렛' '리퍼']]\n",
      "\n",
      " [['아리' '야스오']\n",
      "  ['요네' '말파이트']]] (2, 2, 2)\n"
     ]
    }
   ],
   "source": [
    "import numpy as np\n",
    "\n",
    "arr1 = np.array(['트레이서', '겐지', '위도우메이커'])\n",
    "arr2 = np.array([['트레이서', '겐지'], ['아리', '야스오']])\n",
    "arr3 = np.array([[['트레이서', '겐지'], ['정크렛', '리퍼']], [['아리', '야스오'], ['요네', '말파이트']]])\n",
    "\n",
    "print(arr1, arr1.shape)\n",
    "print() # 줄바꿈\n",
    "print(arr2, arr2.shape)\n",
    "print() # 줄바꿈\n",
    "print(arr3, arr3.shape)"
   ]
  },
  {
   "cell_type": "code",
   "execution_count": 11,
   "id": "181d37ab",
   "metadata": {},
   "outputs": [
    {
     "name": "stdout",
     "output_type": "stream",
     "text": [
      "[0. 0. 0. 0. 0. 0. 0. 0. 0. 0.] (10,) float64\n"
     ]
    }
   ],
   "source": [
    "# 0으로만 이루어진 배열 생성\n",
    "arr = np.zeros(10)\n",
    "print(arr, arr.shape, arr.dtype)"
   ]
  },
  {
   "cell_type": "code",
   "execution_count": 12,
   "id": "1ce24165",
   "metadata": {},
   "outputs": [
    {
     "name": "stdout",
     "output_type": "stream",
     "text": [
      "[1. 1. 1. 1. 1. 1. 1. 1. 1. 1.] (10,) float64\n"
     ]
    }
   ],
   "source": [
    "# 1로만 이루어진 배열 생성\n",
    "arr = np.ones(10)\n",
    "print(arr, arr.shape, arr.dtype)"
   ]
  },
  {
   "cell_type": "code",
   "execution_count": 13,
   "id": "da697903",
   "metadata": {},
   "outputs": [
    {
     "name": "stdout",
     "output_type": "stream",
     "text": [
      "[0 1 2 3 4 5 6 7 8 9] (10,) int32\n"
     ]
    }
   ],
   "source": [
    "# range함수에 대응되는 arange함수\n",
    "arr = np.arange(10)\n",
    "print(arr, arr.shape, arr.dtype)"
   ]
  },
  {
   "cell_type": "code",
   "execution_count": 16,
   "id": "3d0f1920",
   "metadata": {},
   "outputs": [
    {
     "name": "stdout",
     "output_type": "stream",
     "text": [
      "[0 1 2 3 4 5 6 7 8 9]\n",
      "(10,)\n",
      "int32\n",
      "1\n"
     ]
    }
   ],
   "source": [
    "# 배열의 여러가지 정보 확인\n",
    "arr = np.arange(10)\n",
    "print(arr) # 배열 출력\n",
    "print(arr.shape) # 배열의 크기 출력\n",
    "print(arr.dtype) # 배열의 자료형 확인\n",
    "print(arr.ndim) # 배열의 차원 확인"
   ]
  },
  {
   "cell_type": "markdown",
   "id": "2036df36",
   "metadata": {},
   "source": [
    "## 배열의 자료형 및 크기\n",
    "- 배열의 자료형을 확인하고 변경할 수 있다.\n",
    "- 배열의 크기를 변경할 수 있다."
   ]
  },
  {
   "cell_type": "code",
   "execution_count": 18,
   "id": "240c36bc",
   "metadata": {},
   "outputs": [
    {
     "name": "stdout",
     "output_type": "stream",
     "text": [
      "[0 1 2 3 4 5 6 7 8 9] int32\n"
     ]
    }
   ],
   "source": [
    "# 배열 생성\n",
    "arr = np.arange(10)\n",
    "print(arr, arr.dtype)"
   ]
  },
  {
   "cell_type": "code",
   "execution_count": 19,
   "id": "65243a66",
   "metadata": {},
   "outputs": [
    {
     "name": "stdout",
     "output_type": "stream",
     "text": [
      "[0. 1. 2. 3. 4. 5. 6. 7. 8. 9.] float64\n"
     ]
    }
   ],
   "source": [
    "# astype을 사용해서 배열 원소의 자료형을 변경할 수 있다.\n",
    "arr_float = arr.astype(np.float64)\n",
    "print(arr_float, arr_float.dtype)\n",
    "\n",
    "# 주요 자료형\n",
    "# int32, int64\n",
    "# float32, float64\n",
    "# bool\n",
    "# object\n",
    "# string_"
   ]
  },
  {
   "cell_type": "code",
   "execution_count": 22,
   "id": "fd7eb734",
   "metadata": {},
   "outputs": [
    {
     "name": "stdout",
     "output_type": "stream",
     "text": [
      "[[0 1 2 3 4]\n",
      " [5 6 7 8 9]] (2, 5)\n"
     ]
    }
   ],
   "source": [
    "# 배열 크기 변경하기\n",
    "# reshape(행, 열)로 변경할 수 있다.\n",
    "arr_reshape = arr.reshape(2, 5)\n",
    "print(arr_reshape, arr_reshape.shape)"
   ]
  },
  {
   "cell_type": "markdown",
   "id": "ec7971af",
   "metadata": {},
   "source": [
    "## 배열의 연산\n",
    "- 기본적인 행렬의 연산은 모두 지원한다.\n",
    "- 브로드캐스팅이라는 기능이 있어 다른 크기의 배열도 연산이 가능하다.\n",
    "- Transpose가 가능하다."
   ]
  },
  {
   "cell_type": "code",
   "execution_count": 24,
   "id": "77d34c62",
   "metadata": {},
   "outputs": [
    {
     "name": "stdout",
     "output_type": "stream",
     "text": [
      "----배열 출력----\n",
      "[[1 2 3]\n",
      " [4 5 6]]\n",
      "----배열의 덧셈----\n",
      "[[ 2  4  6]\n",
      " [ 8 10 12]]\n",
      "----배열의 뺄셈----\n",
      "[[0 0 0]\n",
      " [0 0 0]]\n",
      "----배열의 곱셈----\n",
      "[[ 1  4  9]\n",
      " [16 25 36]]\n",
      "----배열의 나눗셈----\n",
      "[[1. 1. 1.]\n",
      " [1. 1. 1.]]\n",
      "----배열의 몫 연산----\n",
      "[[1 1 1]\n",
      " [1 1 1]]\n",
      "----배열의 나머지 연산----\n",
      "[[0 0 0]\n",
      " [0 0 0]]\n"
     ]
    }
   ],
   "source": [
    "arr = np.array([[1, 2, 3], [4, 5, 6]])\n",
    "\n",
    "print(\"----배열 출력----\")\n",
    "print(arr)\n",
    "print(\"----배열의 덧셈----\")\n",
    "print(arr + arr)\n",
    "print(\"----배열의 뺄셈----\")\n",
    "print(arr - arr)\n",
    "print(\"----배열의 곱셈----\")\n",
    "print(arr * arr)\n",
    "print(\"----배열의 나눗셈----\")\n",
    "print(arr / arr)\n",
    "print(\"----배열의 몫 연산----\")\n",
    "print(arr // arr)\n",
    "print(\"----배열의 나머지 연산----\")\n",
    "print(arr % arr)"
   ]
  },
  {
   "cell_type": "markdown",
   "id": "1ae0ea0d",
   "metadata": {},
   "source": [
    "### 브로드 캐스팅이 되는 경우\n",
    "- 둘 중 하나의 배열이 1차원일 경우\n",
    "- 두 배열의 짝이 맞을 경우(첫 번째 배열의 열, 두 번째 배열의 행이 동일)\n",
    "- 두 배열이 뒤에서 부터 대응하는 축의 크기가 동일하거나, 1이어야만 한다."
   ]
  },
  {
   "cell_type": "code",
   "execution_count": 31,
   "id": "42eb0f45",
   "metadata": {},
   "outputs": [
    {
     "name": "stdout",
     "output_type": "stream",
     "text": [
      "----둘 중 하나의 배열이 1차원----\n",
      "[[ 0  3  6  9 12]\n",
      " [15 18 21 24 27]]\n",
      "\n",
      "----두 배열의 짝이 맞을 경우----\n",
      "[[0 0 0 0]\n",
      " [0 1 2 3]\n",
      " [0 2 4 6]\n",
      " [0 3 6 9]]\n",
      "\n",
      "----두 배열이 뒤에서 부터 대응하는 축의 크기가 동일하거나, 1인 경우\n",
      "[[[  0   1   4   9  16]\n",
      "  [  0   6  14  24  36]\n",
      "  [  0  11  24  39  56]\n",
      "  [  0  16  34  54  76]]\n",
      "\n",
      " [[  0   6  14  24  36]\n",
      "  [ 25  36  49  64  81]\n",
      "  [ 50  66  84 104 126]\n",
      "  [ 75  96 119 144 171]]\n",
      "\n",
      " [[  0  11  24  39  56]\n",
      "  [ 50  66  84 104 126]\n",
      "  [100 121 144 169 196]\n",
      "  [150 176 204 234 266]]]\n"
     ]
    }
   ],
   "source": [
    "# 브로드 캐스팅\n",
    "\n",
    "# 첫 번째 경우\n",
    "arr1 = np.arange(10).reshape(2, 5)\n",
    "scalar = 3\n",
    "print(\"----둘 중 하나의 배열이 1차원----\")\n",
    "print(arr1 * scalar)\n",
    "print()\n",
    "\n",
    "# 두 번째 경우\n",
    "arr1 = np.arange(4).reshape(4, 1)\n",
    "arr2 = np.arange(4).reshape(1, 4)\n",
    "print(\"----두 배열의 짝이 맞을 경우----\")\n",
    "print(arr1 * arr2)\n",
    "print()\n",
    "\n",
    "# 세 번째 경우\n",
    "arr1 = np.arange(15).reshape(3, 1, 5)\n",
    "arr2 = np.arange(20).reshape(   4, 5)\n",
    "print(\"----두 배열이 뒤에서 부터 대응하는 축의 크기가 동일하거나, 1인 경우\")\n",
    "print(arr1 * arr2)"
   ]
  },
  {
   "cell_type": "code",
   "execution_count": 32,
   "id": "42f70a00",
   "metadata": {},
   "outputs": [
    {
     "name": "stdout",
     "output_type": "stream",
     "text": [
      "----원래 배열----\n",
      "[[0 1 2 3 4]\n",
      " [5 6 7 8 9]]\n",
      "\n",
      "----Transpose한 배열\n",
      "[[0 5]\n",
      " [1 6]\n",
      " [2 7]\n",
      " [3 8]\n",
      " [4 9]]\n"
     ]
    }
   ],
   "source": [
    "# Transpose\n",
    "arr = np.arange(10).reshape(2, 5)\n",
    "print(\"----원래 배열----\")\n",
    "print(arr)\n",
    "print()\n",
    "\n",
    "print(\"----Transpose한 배열\")\n",
    "print(arr.transpose())"
   ]
  }
 ],
 "metadata": {
  "kernelspec": {
   "display_name": "Python 3 (ipykernel)",
   "language": "python",
   "name": "python3"
  },
  "language_info": {
   "codemirror_mode": {
    "name": "ipython",
    "version": 3
   },
   "file_extension": ".py",
   "mimetype": "text/x-python",
   "name": "python",
   "nbconvert_exporter": "python",
   "pygments_lexer": "ipython3",
   "version": "3.11.5"
  }
 },
 "nbformat": 4,
 "nbformat_minor": 5
}
