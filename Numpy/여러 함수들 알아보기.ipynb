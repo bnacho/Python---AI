{
 "cells": [
  {
   "cell_type": "markdown",
   "id": "163a5029",
   "metadata": {},
   "source": [
    "# 넘파이의 범용함수\n",
    "- 넘파이에서 많이 쓰이는 함수이다.\n",
    "- 보통 수치 계산에 대한 함수들이 많다."
   ]
  },
  {
   "cell_type": "code",
   "execution_count": 1,
   "id": "d0edd133",
   "metadata": {},
   "outputs": [],
   "source": [
    "import numpy as np"
   ]
  },
  {
   "cell_type": "markdown",
   "id": "e7dab7d7",
   "metadata": {},
   "source": [
    "## 절대값 계산\n",
    "- np.abs함수는 절대값 계산 결과를 정수로 반환한다.\n",
    "- np.fabs함수는 절대값 계산 결과를 실수로 반환한다."
   ]
  },
  {
   "cell_type": "code",
   "execution_count": 21,
   "id": "26b1ea5f",
   "metadata": {},
   "outputs": [
    {
     "name": "stdout",
     "output_type": "stream",
     "text": [
      "[-10  -9  -8  -7  -6  -5  -4  -3  -2  -1]\n",
      "\n",
      "----np.abs함수 결과----\n",
      "[10  9  8  7  6  5  4  3  2  1]\n",
      "----np.fabs함수 결과----\n",
      "[10.  9.  8.  7.  6.  5.  4.  3.  2.  1.]\n"
     ]
    }
   ],
   "source": [
    "arr_int = np.arange(-10, 0)\n",
    "print(arr_int, end = '\\n\\n')\n",
    "\n",
    "print(\"----np.abs함수 결과----\")\n",
    "print(np.abs(arr_int))\n",
    "print(\"----np.fabs함수 결과----\")\n",
    "print(np.fabs(arr_int))"
   ]
  },
  {
   "cell_type": "markdown",
   "id": "c1495594",
   "metadata": {},
   "source": [
    "## 제곱근 계산(루트)\n",
    "- np.sqrt함수로 가능하다.\n",
    "- ** 0.5와 같은 기능을 한다."
   ]
  },
  {
   "cell_type": "code",
   "execution_count": 23,
   "id": "c2cb61ac",
   "metadata": {},
   "outputs": [
    {
     "name": "stdout",
     "output_type": "stream",
     "text": [
      "[0 1 2 3 4 5 6 7 8 9]\n",
      "\n",
      "[0.         1.         1.41421356 1.73205081 2.         2.23606798\n",
      " 2.44948974 2.64575131 2.82842712 3.        ]\n"
     ]
    }
   ],
   "source": [
    "arr = np.arange(10)\n",
    "print(arr, end = '\\n\\n')\n",
    "\n",
    "print(np.sqrt(arr))"
   ]
  },
  {
   "cell_type": "markdown",
   "id": "3d3282ad",
   "metadata": {},
   "source": [
    "## 제곱 계산\n",
    "- np.square함수로 가능하다.\n",
    "- ** 2와 같은 기능을 한다."
   ]
  },
  {
   "cell_type": "code",
   "execution_count": 24,
   "id": "b56f0636",
   "metadata": {},
   "outputs": [
    {
     "name": "stdout",
     "output_type": "stream",
     "text": [
      "[0 1 2 3 4 5 6 7 8 9]\n",
      "\n",
      "[ 0  1  4  9 16 25 36 49 64 81]\n"
     ]
    }
   ],
   "source": [
    "arr = np.arange(10)\n",
    "print(arr, end = '\\n\\n')\n",
    "\n",
    "print(np.square(arr))"
   ]
  },
  {
   "cell_type": "markdown",
   "id": "faf2ada6",
   "metadata": {},
   "source": [
    "## e^x 계산\n",
    "- np.exp함수로 가능하다."
   ]
  },
  {
   "cell_type": "code",
   "execution_count": 25,
   "id": "08713d17",
   "metadata": {},
   "outputs": [
    {
     "name": "stdout",
     "output_type": "stream",
     "text": [
      "[0 1 2 3 4 5 6 7 8 9]\n",
      "\n",
      "[1.00000000e+00 2.71828183e+00 7.38905610e+00 2.00855369e+01\n",
      " 5.45981500e+01 1.48413159e+02 4.03428793e+02 1.09663316e+03\n",
      " 2.98095799e+03 8.10308393e+03]\n"
     ]
    }
   ],
   "source": [
    "arr = np.arange(10)\n",
    "print(arr, end = '\\n\\n')\n",
    "\n",
    "print(np.exp(arr))"
   ]
  },
  {
   "cell_type": "markdown",
   "id": "056bc8e0",
   "metadata": {},
   "source": [
    "## 로그 계산\n",
    "- np.log함수로 가능하다.\n",
    "- np.log : 밑이 e인 자연로그\n",
    "- np.log10 : 밑이 10인 상용로그\n",
    "- np.log2 : 밑이 2인 로그"
   ]
  },
  {
   "cell_type": "code",
   "execution_count": 28,
   "id": "b1501063",
   "metadata": {},
   "outputs": [
    {
     "name": "stdout",
     "output_type": "stream",
     "text": [
      "[2 3 4 5 6 7 8 9]\n",
      "\n",
      "----자연로그----\n",
      "[0.69314718 1.09861229 1.38629436 1.60943791 1.79175947 1.94591015\n",
      " 2.07944154 2.19722458]\n",
      "\n",
      "----상용로그----\n",
      "[0.30103    0.47712125 0.60205999 0.69897    0.77815125 0.84509804\n",
      " 0.90308999 0.95424251]\n",
      "\n",
      "----밑이 2인 로그----\n",
      "[1.         1.5849625  2.         2.32192809 2.5849625  2.80735492\n",
      " 3.         3.169925  ]\n"
     ]
    }
   ],
   "source": [
    "arr = np.arange(2, 10)\n",
    "print(arr, end = '\\n\\n')\n",
    "\n",
    "print(\"----자연로그----\")\n",
    "print(np.log(arr), end = '\\n\\n')\n",
    "print(\"----상용로그----\")\n",
    "print(np.log10(arr), end = '\\n\\n')\n",
    "print(\"----밑이 2인 로그----\")\n",
    "print(np.log2(arr))"
   ]
  },
  {
   "cell_type": "markdown",
   "id": "dfec2391",
   "metadata": {},
   "source": [
    "## 부호 계산\n",
    "- np.sign함수로 가능하다.\n",
    "- 1은 양수 0은 0, -1은 음수를 뜻한다."
   ]
  },
  {
   "cell_type": "code",
   "execution_count": 30,
   "id": "925cf19e",
   "metadata": {},
   "outputs": [
    {
     "name": "stdout",
     "output_type": "stream",
     "text": [
      "[-5 -4 -3 -2 -1  0  1  2  3  4  5]\n",
      "\n",
      "[-1 -1 -1 -1 -1  0  1  1  1  1  1]\n"
     ]
    }
   ],
   "source": [
    "arr = np.arange(-5, 6)\n",
    "print(arr, end = '\\n\\n')\n",
    "\n",
    "print(np.sign(arr))"
   ]
  },
  {
   "cell_type": "markdown",
   "id": "1c4099e1",
   "metadata": {},
   "source": [
    "## 천장 함수와 바닥 함수\n",
    "- 성분보다 크거나 같은 정수 중 가장 작은 정수(천장함수) : np.ceil함수\n",
    "- 성분보다 작거나 같은 정수 중 가장 큰 정수(바닥함수) : np.floor함수"
   ]
  },
  {
   "cell_type": "code",
   "execution_count": 34,
   "id": "11bd843f",
   "metadata": {},
   "outputs": [
    {
     "name": "stdout",
     "output_type": "stream",
     "text": [
      "[ 0.   1.5  3.   4.5  6.   7.5  9.  10.5 12.  13.5]\n",
      "\n",
      "----천장함수----\n",
      "[ 0.  2.  3.  5.  6.  8.  9. 11. 12. 14.]\n",
      "\n",
      "----바닥함수----\n",
      "[ 0.  1.  3.  4.  6.  7.  9. 10. 12. 13.]\n",
      "\n"
     ]
    }
   ],
   "source": [
    "arr = np.arange(0,15,1.5)\n",
    "print(arr, end = '\\n\\n')\n",
    "\n",
    "# 천장함수\n",
    "print(\"----천장함수----\")\n",
    "print(np.ceil(arr), end = '\\n\\n')\n",
    "\n",
    "# 바닥함수\n",
    "print('----바닥함수----')\n",
    "print(np.floor(arr), end = '\\n\\n')"
   ]
  },
  {
   "cell_type": "markdown",
   "id": "4db07ddb",
   "metadata": {},
   "source": [
    "## 더하기 함수\n",
    "- 두 배열을 더하는 함수이다.\n",
    "- np.add()함수로 더할 수 있다."
   ]
  },
  {
   "cell_type": "code",
   "execution_count": 38,
   "id": "6c5c9737",
   "metadata": {},
   "outputs": [
    {
     "name": "stdout",
     "output_type": "stream",
     "text": [
      "[[0.  1.1]\n",
      " [2.2 3.3]\n",
      " [4.4 5.5]\n",
      " [6.6 7.7]]\n"
     ]
    }
   ],
   "source": [
    "arr1 = np.arange(8).reshape(4, 2)\n",
    "arr2 = np.arange(0,0.8,0.1).reshape(4,2)\n",
    "\n",
    "print(np.add(arr1, arr2))"
   ]
  },
  {
   "cell_type": "markdown",
   "id": "1bf169ed",
   "metadata": {},
   "source": [
    "## 빼기 함수\n",
    "- 두 배열을 빼는 함수이다.\n",
    "- np.subtract()함수로 뺄 수 있다."
   ]
  },
  {
   "cell_type": "code",
   "execution_count": 39,
   "id": "e2116c55",
   "metadata": {},
   "outputs": [
    {
     "name": "stdout",
     "output_type": "stream",
     "text": [
      "[[0.  0.9]\n",
      " [1.8 2.7]\n",
      " [3.6 4.5]\n",
      " [5.4 6.3]]\n"
     ]
    }
   ],
   "source": [
    "arr1 = np.arange(8).reshape(4, 2)\n",
    "arr2 = np.arange(0,0.8,0.1).reshape(4,2)\n",
    "\n",
    "print(np.subtract(arr1, arr2))"
   ]
  },
  {
   "cell_type": "markdown",
   "id": "8a60748f",
   "metadata": {},
   "source": [
    "## 곱하기 함수\n",
    "- 두 배열을 곱하는 함수이다.\n",
    "- np.multyply()함수로 곱할 수 있다."
   ]
  },
  {
   "cell_type": "code",
   "execution_count": 40,
   "id": "009a96e7",
   "metadata": {},
   "outputs": [
    {
     "name": "stdout",
     "output_type": "stream",
     "text": [
      "[[0.  0.1]\n",
      " [0.4 0.9]\n",
      " [1.6 2.5]\n",
      " [3.6 4.9]]\n"
     ]
    }
   ],
   "source": [
    "arr1 = np.arange(8).reshape(4, 2)\n",
    "arr2 = np.arange(0,0.8,0.1).reshape(4,2)\n",
    "\n",
    "print(np.multiply(arr1, arr2))"
   ]
  },
  {
   "cell_type": "markdown",
   "id": "162b8eb8",
   "metadata": {},
   "source": [
    "## 나누기 함수\n",
    "- 두 배열을 나누는 함수이다.\n",
    "- np.divide()함수로 나눌 수 있다."
   ]
  },
  {
   "cell_type": "code",
   "execution_count": 42,
   "id": "ddbdc46f",
   "metadata": {},
   "outputs": [
    {
     "name": "stdout",
     "output_type": "stream",
     "text": [
      "[[10. 10.]\n",
      " [10. 10.]\n",
      " [10. 10.]\n",
      " [10. 10.]]\n"
     ]
    }
   ],
   "source": [
    "arr1 = np.arange(1,9).reshape(4, 2)\n",
    "arr2 = np.arange(0.1,0.9,0.1).reshape(4,2)\n",
    "\n",
    "print(np.divide(arr1, arr2))"
   ]
  },
  {
   "cell_type": "markdown",
   "id": "d22b2305",
   "metadata": {},
   "source": [
    "## 최댓값 함수\n",
    "- 두 배열의 같은 위치에서의 최댓값을 반환한다.\n",
    "- np.maximum()함수로 가능하다."
   ]
  },
  {
   "cell_type": "code",
   "execution_count": 44,
   "id": "8add2f09",
   "metadata": {},
   "outputs": [
    {
     "name": "stdout",
     "output_type": "stream",
     "text": [
      "[ 5  6  7  8  9 11 13 15]\n"
     ]
    }
   ],
   "source": [
    "arr1 = np.arange(1,17, 2)\n",
    "arr2 = np.arange(5,13)\n",
    "\n",
    "print(np.maximum(arr1, arr2))"
   ]
  },
  {
   "cell_type": "markdown",
   "id": "3e86591d",
   "metadata": {},
   "source": [
    "## 최솟값 함수\n",
    "- 두 배열의 같은 위치에서의 최솟값을 반환한다.\n",
    "- np.minimum()함수로 가능하다."
   ]
  },
  {
   "cell_type": "code",
   "execution_count": 45,
   "id": "f495045f",
   "metadata": {},
   "outputs": [
    {
     "name": "stdout",
     "output_type": "stream",
     "text": [
      "[ 1  3  5  7  9 10 11 12]\n"
     ]
    }
   ],
   "source": [
    "arr1 = np.arange(1,17, 2)\n",
    "arr2 = np.arange(5,13)\n",
    "\n",
    "print(np.minimum(arr1, arr2))"
   ]
  },
  {
   "cell_type": "markdown",
   "id": "daa3985c",
   "metadata": {},
   "source": [
    "## 랜덤 함수\n",
    "- 랜덤 함수를 사용해 배열을 생성하는 방법이다."
   ]
  },
  {
   "cell_type": "markdown",
   "id": "504f0a64",
   "metadata": {},
   "source": [
    "### np.random.normal()\n",
    "- 정규 분포에서 임의의 수를 추출하여 이를 바탕으로 랜덤 배열을 생성한다."
   ]
  },
  {
   "cell_type": "code",
   "execution_count": 48,
   "id": "84d26032",
   "metadata": {},
   "outputs": [
    {
     "name": "stdout",
     "output_type": "stream",
     "text": [
      "[-0.62190283  0.03116316  0.89834031  1.40196744  0.56575691 -0.85974547\n",
      "  3.37674733  1.39107985  1.91868201  0.82884939]\n"
     ]
    }
   ],
   "source": [
    "arr = np.random.normal(0, 1, 10) # (정규분포의 평균, 정규분포의 표준편차, 추출할 수)\n",
    "print(arr)"
   ]
  },
  {
   "cell_type": "markdown",
   "id": "8e30cd70",
   "metadata": {},
   "source": [
    "### np.random.randn()\n",
    "- 평균이 0, 표준편차가 1인 표준정규분포표에서 수를 추출해 배열을 생성한다."
   ]
  },
  {
   "cell_type": "code",
   "execution_count": 49,
   "id": "19e6cc68",
   "metadata": {},
   "outputs": [
    {
     "name": "stdout",
     "output_type": "stream",
     "text": [
      "[-0.56515684  0.30622179 -0.08830808  0.33557999  1.09082326 -0.3253069\n",
      "  0.09057086  0.58530478  0.07138265  0.07083533]\n"
     ]
    }
   ],
   "source": [
    "arr = np.random.randn(10)\n",
    "print(arr)"
   ]
  },
  {
   "cell_type": "markdown",
   "id": "e70439dc",
   "metadata": {},
   "source": [
    "### np.random.rand()\n",
    "- [0,1)범위에서 균등하게 추출한다."
   ]
  },
  {
   "cell_type": "code",
   "execution_count": 50,
   "id": "3bfd184c",
   "metadata": {},
   "outputs": [
    {
     "name": "stdout",
     "output_type": "stream",
     "text": [
      "[[0.39435076 0.3236273  0.69100379 0.68837446 0.99216702 0.48559246\n",
      "  0.91181675 0.95573831 0.80552395 0.37353075]\n",
      " [0.30252426 0.83164031 0.25326584 0.69618558 0.39409298 0.02812303\n",
      "  0.19568716 0.77921408 0.55549302 0.07920048]]\n"
     ]
    }
   ],
   "source": [
    "arr = np.random.rand(2, 10)\n",
    "print(arr)"
   ]
  },
  {
   "cell_type": "markdown",
   "id": "c54532a2",
   "metadata": {},
   "source": [
    "### np.random.randint()\n",
    "- 정해진 범위 내에서 임의의 정수를 추출해 배열을 생성한다."
   ]
  },
  {
   "cell_type": "code",
   "execution_count": 51,
   "id": "e1307c30",
   "metadata": {},
   "outputs": [
    {
     "name": "stdout",
     "output_type": "stream",
     "text": [
      "[5 7 2 8 7 4 7 4 8 3]\n"
     ]
    }
   ],
   "source": [
    "arr = np.random.randint(1, 10, 10)\n",
    "print(arr)"
   ]
  },
  {
   "cell_type": "markdown",
   "id": "e92ebff0",
   "metadata": {},
   "source": [
    "### np.random.seed()\n",
    "- 사실 랜덤함수는 랜덤이 아니다.\n",
    "- 정해진 시드마다 정해진 값을 출력해준다.\n",
    "- 시드를 고정하여 값을 고정할 수 있다."
   ]
  },
  {
   "cell_type": "code",
   "execution_count": 55,
   "id": "9f639b30",
   "metadata": {},
   "outputs": [
    {
     "name": "stdout",
     "output_type": "stream",
     "text": [
      "[8 7 8 9 9 4 1 8 1 8]\n",
      "[1 1 2 5 7 6 7 7 6 3]\n",
      "[8 7 8 9 9 4 1 8 1 8]\n"
     ]
    }
   ],
   "source": [
    "np.random.seed(47)\n",
    "arr = np.random.randint(1, 10, 10)\n",
    "print(arr)\n",
    "\n",
    "# 시드값 변경\n",
    "np.random.seed(50)\n",
    "arr = np.random.randint(1, 10, 10)\n",
    "print(arr)\n",
    "\n",
    "# 시드값 복구\n",
    "np.random.seed(47)\n",
    "arr = np.random.randint(1, 10, 10)\n",
    "print(arr)"
   ]
  }
 ],
 "metadata": {
  "kernelspec": {
   "display_name": "Python 3 (ipykernel)",
   "language": "python",
   "name": "python3"
  },
  "language_info": {
   "codemirror_mode": {
    "name": "ipython",
    "version": 3
   },
   "file_extension": ".py",
   "mimetype": "text/x-python",
   "name": "python",
   "nbconvert_exporter": "python",
   "pygments_lexer": "ipython3",
   "version": "3.11.5"
  }
 },
 "nbformat": 4,
 "nbformat_minor": 5
}
