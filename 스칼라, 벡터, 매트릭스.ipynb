{
 "cells": [
  {
   "cell_type": "markdown",
   "id": "8e49c92c",
   "metadata": {},
   "source": [
    "# 스칼라\n",
    "- 텐서가 0차원이고, 축이 없다.\n",
    "- 양의 실수, 음의 실수, 정수인 값이 하나만 존재한다\n",
    "- 크기만 가지고 있다"
   ]
  },
  {
   "cell_type": "code",
   "execution_count": 2,
   "id": "849e4e8e",
   "metadata": {},
   "outputs": [],
   "source": [
    "import numpy as np # 스칼라를 만들려면 넘파이가 필요하다."
   ]
  },
  {
   "cell_type": "code",
   "execution_count": 3,
   "id": "d98750d5",
   "metadata": {},
   "outputs": [
    {
     "name": "stdout",
     "output_type": "stream",
     "text": [
      "21 <class 'numpy.ndarray'>\n"
     ]
    }
   ],
   "source": [
    "# np.array() : 넘파이 배열을 만들 수 있다.\n",
    "a = np.array(21) # 이렇게 값이 하나만 들어가게 되면 스칼라가 만들어진다\n",
    "print(a, type(a)) # a의 타입은 넘파이 배열로 만들어진다."
   ]
  },
  {
   "cell_type": "code",
   "execution_count": 4,
   "id": "b50e82e2",
   "metadata": {},
   "outputs": [
    {
     "name": "stdout",
     "output_type": "stream",
     "text": [
      "0\n"
     ]
    }
   ],
   "source": [
    "# 스칼라의 차원 확인 => .ndim : 넘파이 배열의 차원을 확인할 수 있다.\n",
    "print(a.ndim) # 0차원으로 나오므로 a는 스칼라이다."
   ]
  },
  {
   "cell_type": "code",
   "execution_count": 5,
   "id": "bcd701da",
   "metadata": {},
   "outputs": [
    {
     "name": "stdout",
     "output_type": "stream",
     "text": [
      "()\n"
     ]
    }
   ],
   "source": [
    "# 스칼라의 크기 확인 => .shape : 넘파이 배열의 크기를 확인할 수 있다.\n",
    "print(a.shape) # ()의 뜻은 축이 없다는 뜻이다."
   ]
  },
  {
   "cell_type": "markdown",
   "id": "750d3b8f",
   "metadata": {},
   "source": [
    "# 벡터\n",
    "- 텐서가 1차원이고 하나의 축을 가지고 있다.\n",
    "- 하나의 행 또는 열로 구성된 데이터의 집합이다.\n",
    "- 각 요소는 스칼라 값으로 구성되어 있다.\n",
    "- 벡터의 각 요소는 크기와 방향을 가질 수 있다.\n",
    "- 공간의 점, 힘, 속도, 가속도 등과 같은 물리적인 개념을 나타낸다."
   ]
  },
  {
   "cell_type": "code",
   "execution_count": 7,
   "id": "87eb1ba3",
   "metadata": {},
   "outputs": [
    {
     "name": "stdout",
     "output_type": "stream",
     "text": [
      "[10] <class 'numpy.ndarray'>\n",
      "1\n",
      "(1,)\n"
     ]
    }
   ],
   "source": [
    "v1 = np.array([10]) # 스칼라의 생성과는 다르게 대괄호로 감싸준다. (하나의 값이라도 대괄호에 감싸져 있다면 벡터이다.)\n",
    "print(v, type(v))\n",
    "\n",
    "# 차원 확인\n",
    "print(v1.ndim) # 1차원\n",
    "\n",
    "# 크기 확인\n",
    "print(v1.shape) # 차원과 형상을 가지고 있다."
   ]
  },
  {
   "cell_type": "code",
   "execution_count": 8,
   "id": "9f0a660e",
   "metadata": {},
   "outputs": [
    {
     "name": "stdout",
     "output_type": "stream",
     "text": [
      "[1 2 3 4 5] <class 'numpy.ndarray'>\n",
      "1\n",
      "(5,)\n"
     ]
    }
   ],
   "source": [
    "v2 = np.array([1, 2, 3, 4, 5]) # 스칼라와는 다르게 여러 값이 들어갈 수 있ㄷ다.\n",
    "print(v2, type(v2))\n",
    "\n",
    "# 차원 확인\n",
    "print(v2.ndim) # 1차원\n",
    "\n",
    "# 크기 확인\n",
    "print(v2.shape) # 차원과 형상을 가지고 있다."
   ]
  },
  {
   "cell_type": "code",
   "execution_count": 11,
   "id": "8fde0da1",
   "metadata": {},
   "outputs": [
    {
     "name": "stdout",
     "output_type": "stream",
     "text": [
      "[0, 1, 2, 3, 4, 5, 6, 7, 8, 9]\n",
      "[0.  0.5 1.  1.5 2.  2.5 3.  3.5 4.  4.5 5.  5.5 6.  6.5 7.  7.5 8.  8.5\n",
      " 9.  9.5] float64\n",
      "[0 1 2 3 4 5 6 7 8 9] int32\n"
     ]
    }
   ],
   "source": [
    "# 범위를 정해서 벡터 생성하기\n",
    "print(list(range(10))) # range함수를 통해서 범위를 정해 리스트를 생성할 수 있다.\n",
    "\n",
    "# 벡터도 범위를 정해서 생성할 수 있는데 이 때는 np.arange()가 사용된다.\n",
    "# range()함수와 동일하게 시작값, 종료값, 스텝값이 들어간다.\n",
    "# 스텝값에는 실수도 들어갈 수 있다.\n",
    "\n",
    "v3 = np.arange(0, 10, 0.5) \n",
    "print(v3, v3.dtype) # .dtype : 배열 요소의 자료형을 알려주는 함수이다.\n",
    "# float64 => 배열의 각 요소가 실수로 이루어져 있다는 것을 알 수 있다.\n",
    "\n",
    "v4 = np.arange(10)\n",
    "print(v4, v4.dtype)"
   ]
  },
  {
   "cell_type": "code",
   "execution_count": 19,
   "id": "97e38f4c",
   "metadata": {},
   "outputs": [
    {
     "name": "stdout",
     "output_type": "stream",
     "text": [
      "[3 4]\n",
      "[ 9 16]\n",
      "5.0\n",
      "5.0\n",
      "5.0\n"
     ]
    }
   ],
   "source": [
    "# 벡터의 노름 구하기\n",
    "# 노름 : 벡터의 길이 또는 크기\n",
    "\n",
    "# 벡터의 노름은 피타고라스의 정리를 이용하여 구해줄 수 있다.\n",
    "# 피타고라스의 정리 : 직각삼각형일 때 (빗변의 길이)^2 = (밑변의 길이)^2 + (높이)^2\n",
    "\n",
    "v5 = np.arange(3,5)\n",
    "print(v5)\n",
    "\n",
    "# 노름 구하기(1) => 원리\n",
    "v_p = np.power(v5, 2) # 배열의 각 요소에 제곱을 해준다.\n",
    "print(v_p)\n",
    "\n",
    "v_r = np.sqrt(np.sum(v_p)) # 제곱해준 배열의 각 요소의 합에 제곱근을 구해준다.\n",
    "print(v_r) # norm\n",
    "\n",
    "# 노름 구하기(hypot()함수 사용) => 위 방법에 있는 코드를 뭉친거다.\n",
    "print(np.hypot(v5[0], v5[1])) # \n",
    "\n",
    "# 노름 구하기(np.linalg모듈 안에 있는 norm()이용)\n",
    "print(np.linalg.norm(v5))"
   ]
  },
  {
   "cell_type": "markdown",
   "id": "e6a51e7b",
   "metadata": {},
   "source": [
    "# 매트릭스\n",
    "- 2차원인 2개의 축을 가진 행렬이다\n",
    "- 행과 열이 있는 2차원 배열 형태의 데이터 구조이다\n",
    "- 각 원소는 스칼라 값이며, 매트릭스의 크기는 행과 열의 수로 정의된다\n",
    "- 데이터를 구조화하고 다룰 때 사용된다"
   ]
  },
  {
   "cell_type": "code",
   "execution_count": 25,
   "id": "d0806bf4",
   "metadata": {},
   "outputs": [
    {
     "name": "stdout",
     "output_type": "stream",
     "text": [
      "[[10 20]\n",
      " [30 40]] <class 'numpy.ndarray'>\n",
      "int32\n",
      "(2, 2)\n",
      "2\n",
      "[[10]\n",
      " [20]]\n"
     ]
    }
   ],
   "source": [
    "m1 = np.array([[10, 20], [30, 40]]) # 대괄호 안에 대괄호를 사용하여 만들어줘야 한다.\n",
    "print(m1, type(m1))\n",
    "print(m1.dtype) # 정수형으로 이루어진 매트릭스\n",
    "print(m1.shape) # 크기가 2이다.\n",
    "print(m1.ndim) # 2차원\n",
    "\n",
    "m2 = np.array([[10], [20]])\n",
    "print(m2)"
   ]
  }
 ],
 "metadata": {
  "kernelspec": {
   "display_name": "Python 3 (ipykernel)",
   "language": "python",
   "name": "python3"
  },
  "language_info": {
   "codemirror_mode": {
    "name": "ipython",
    "version": 3
   },
   "file_extension": ".py",
   "mimetype": "text/x-python",
   "name": "python",
   "nbconvert_exporter": "python",
   "pygments_lexer": "ipython3",
   "version": "3.11.5"
  }
 },
 "nbformat": 4,
 "nbformat_minor": 5
}
