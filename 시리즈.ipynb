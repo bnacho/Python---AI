{
 "cells": [
  {
   "cell_type": "markdown",
   "id": "8de9d5d7",
   "metadata": {},
   "source": [
    "# 판다스\n",
    "- 데이터 분석을 위한 효율적인 데이터 구조를 제공하는 라이브러리\n",
    "- 서로 다른 여러가지 유형의 데이터를 공통의 포맷으로 정리할 수 있다."
   ]
  },
  {
   "cell_type": "markdown",
   "id": "39c430ce",
   "metadata": {},
   "source": [
    "## 판다스의 특징\n",
    "- 데이터를 읽어들이거나 그래프화 등 데이터 분석에 관한 작업이 가능하다.\n",
    "- 1차원 배열형태의 데이터구조 : Series\n",
    "- 2차원 배열형태의 데이터구조 : DataFrame"
   ]
  },
  {
   "cell_type": "code",
   "execution_count": 57,
   "id": "0cb06959",
   "metadata": {},
   "outputs": [],
   "source": [
    "# 판다스 임포트 하는 방법\n",
    "import pandas as pd # pd로 줄여서 사용하는 경우가 많다"
   ]
  },
  {
   "cell_type": "markdown",
   "id": "556e5d0f",
   "metadata": {},
   "source": [
    "# Series(시리즈)\n",
    "- 1차원 배열의 각 값들에 대응하는 인덱스를 부여할 수 있는 구조\n",
    "- 행의 이름(index), 열의 이름(name)이 있다.\n",
    "- 별도 입력이 없으면 행의 이름은 0부터 시작하는 정수값을 갖고, 열의 이름은 None을 갖는다.\n",
    "- 딕셔너리와 구조가 유사하며, 정수형 위치 인덱스와 인덱스 라벨을 사용한다."
   ]
  },
  {
   "cell_type": "code",
   "execution_count": 58,
   "id": "3254113b",
   "metadata": {},
   "outputs": [],
   "source": [
    "# 시리즈의 기본 구조\n",
    "# sr = pd.Series(데이터값, index = 인덱스명, name = 열이름)으로 시리즈를 만들 수 있다.\n",
    "# 시리즈는 모든 데이터유형을 담을 수 있다."
   ]
  },
  {
   "cell_type": "markdown",
   "id": "4a314e86",
   "metadata": {},
   "source": [
    "## 딕셔너리 -> 시리즈"
   ]
  },
  {
   "cell_type": "code",
   "execution_count": 59,
   "id": "e3685f35",
   "metadata": {},
   "outputs": [
    {
     "name": "stdout",
     "output_type": "stream",
     "text": [
      "{'학생명': ['이순신', '홍길동', '신사임당', '세종대왕'], '점수': [100, 80, 90, 95]} <class 'dict'>\n",
      "학생명    [이순신, 홍길동, 신사임당, 세종대왕]\n",
      "점수          [100, 80, 90, 95]\n",
      "Name: 수학점수, dtype: object <class 'pandas.core.series.Series'>\n",
      "{'math': 100, 'eng': 80, 'kor': 70, 'his': 95} <class 'dict'>\n",
      "math    100\n",
      "eng      80\n",
      "kor      70\n",
      "his      95\n",
      "dtype: int64 <class 'pandas.core.series.Series'>\n",
      "Index(['math', 'eng', 'kor', 'his'], dtype='object') <class 'pandas.core.indexes.base.Index'>\n",
      "[100  80  70  95] <class 'numpy.ndarray'>\n",
      "int64\n"
     ]
    }
   ],
   "source": [
    "import pandas as pd\n",
    "\n",
    "score = {'학생명' : ['이순신', '홍길동', '신사임당', '세종대왕'], '점수' : [100, 80, 90, 95]}\n",
    "print(score, type(score)) # 딕셔너리\n",
    "\n",
    "sr = pd.Series(score, name = '수학점수') # score를 시리즈로 변환, 열이름은 '수학점수'\n",
    "print(sr, type(sr)) # <class 'pandas.core.series.Series'> \n",
    "\n",
    "scr = {'math' : 100, 'eng' : 80, 'kor' : 70, 'his' : 95}\n",
    "print(scr, type(scr)) # 딕셔너리\n",
    "\n",
    "sr = pd.Series(scr) # scr를 시리즈로 변환\n",
    "print(sr, type(sr)) # 시리즈\n",
    "\n",
    "# 인덱스와 값 출력\n",
    "print(sr.index, type(sr.index)) # 인덱스값 추출\n",
    "print(sr.values, type(sr.values)) # 값 출력 / 넘파이 배열로 출력된다.\n",
    "print(sr.dtype) # 정수형값들이 들어있다."
   ]
  },
  {
   "cell_type": "markdown",
   "id": "3f274260",
   "metadata": {},
   "source": [
    "## 리스트, 튜플 -> 시리즈"
   ]
  },
  {
   "cell_type": "code",
   "execution_count": 60,
   "id": "921b9bee",
   "metadata": {},
   "outputs": [
    {
     "name": "stdout",
     "output_type": "stream",
     "text": [
      "일    1\n",
      "이    2\n",
      "삼    3\n",
      "사    4\n",
      "오    5\n",
      "dtype: object\n",
      "[1 2 3 '4' 5]\n"
     ]
    }
   ],
   "source": [
    "# 리스트 -> 시리즈\n",
    "li = [1, 2, 3, '4', 5]\n",
    "sr = pd.Series(li, index = ['일', '이', '삼', '사', '오']) # 인덱스의 개수와 value의 개수가 일치해야한다.\n",
    "print(sr)\n",
    "\n",
    "print(sr.values) # 넘파이 배열은 한 가지 자료형만 포함할 수 있지만 시리즈의 value값을 추출할 때는 여러 자료형을 포함한다."
   ]
  },
  {
   "cell_type": "code",
   "execution_count": 61,
   "id": "107ff881",
   "metadata": {},
   "outputs": [
    {
     "name": "stdout",
     "output_type": "stream",
     "text": [
      "('math', 'his', 'eng') <class 'tuple'>\n",
      "0    math\n",
      "1     his\n",
      "2     eng\n",
      "dtype: object <class 'pandas.core.series.Series'>\n"
     ]
    }
   ],
   "source": [
    "# 튜플 -> 시리즈\n",
    "tu = 'math', 'his', 'eng'\n",
    "print(tu, type(tu)) # 튜플\n",
    "\n",
    "sr = pd.Series(tu) # 튜플을 시리즈로 변환\n",
    "print(sr, type(sr))"
   ]
  },
  {
   "cell_type": "markdown",
   "id": "848e0db0",
   "metadata": {},
   "source": [
    "## 시리즈의 값 추출"
   ]
  },
  {
   "cell_type": "code",
   "execution_count": 62,
   "id": "bb5024ab",
   "metadata": {},
   "outputs": [
    {
     "name": "stdout",
     "output_type": "stream",
     "text": [
      "(1, 2, 3, 4, 5) <class 'tuple'>\n",
      "일    1\n",
      "이    2\n",
      "삼    3\n",
      "사    4\n",
      "오    5\n",
      "dtype: int64\n",
      "1\n",
      "2\n",
      "1\n",
      "2\n"
     ]
    }
   ],
   "source": [
    "# 시리즈의 인덱싱\n",
    "\n",
    "tu = 1, 2, 3, 4, 5\n",
    "print(tu, type(tu))\n",
    "\n",
    "sr = pd.Series(tu, index = ['일', '이', '삼', '사', '오'])\n",
    "print(sr)\n",
    "\n",
    "# 1.정수형 위치 인덱스를 사용 -> 리스트와 동일\n",
    "print(sr[0])\n",
    "print(sr[1])\n",
    "\n",
    "# 2. 인덱스 라벨을 사용 -> 딕셔너리와 동일\n",
    "print(sr['일'])\n",
    "print(sr['이'])"
   ]
  },
  {
   "cell_type": "code",
   "execution_count": 63,
   "id": "625ce0bb",
   "metadata": {},
   "outputs": [
    {
     "name": "stdout",
     "output_type": "stream",
     "text": [
      "일    1\n",
      "이    2\n",
      "dtype: int64\n",
      "일    1\n",
      "이    2\n",
      "dtype: int64\n",
      "일    1\n",
      "이    2\n",
      "dtype: int64\n"
     ]
    }
   ],
   "source": [
    "# 시리즈의 여러 값 추출\n",
    "\n",
    "# 1. 슬라이싱 이용(대괄호 한번 사용)\n",
    "print(sr[0:2])\n",
    "\n",
    "# 2. 넘파이의 인덱싱을 이용\n",
    "print(sr[[0,1]])\n",
    "\n",
    "# 3. 인덱스 라벨 이용\n",
    "print(sr[['일', '이']])"
   ]
  },
  {
   "cell_type": "markdown",
   "id": "4e976345",
   "metadata": {},
   "source": [
    "## 시리즈 -> 딕셔너리, 리스트"
   ]
  },
  {
   "cell_type": "code",
   "execution_count": 64,
   "id": "a7f7038d",
   "metadata": {},
   "outputs": [
    {
     "name": "stdout",
     "output_type": "stream",
     "text": [
      "(1, 2, 3, 4, 5) <class 'tuple'>\n",
      "일    1\n",
      "이    2\n",
      "삼    3\n",
      "사    4\n",
      "오    5\n",
      "dtype: int64\n",
      "{'일': 1, '이': 2, '삼': 3, '사': 4, '오': 5} <class 'dict'>\n",
      "[1, 2, 3, 4, 5] <class 'list'>\n",
      "{'일': 1, '이': 2, '삼': 3, '사': 4, '오': 5} <class 'dict'>\n",
      "[1, 2, 3, 4, 5] <class 'list'>\n"
     ]
    }
   ],
   "source": [
    "# 시리즈 생성\n",
    "tu = 1, 2, 3, 4, 5\n",
    "print(tu, type(tu))\n",
    "\n",
    "sr = pd.Series(tu, index = ['일', '이', '삼', '사', '오'])\n",
    "print(sr)\n",
    "\n",
    "# 1. 형변환 함수 사용\n",
    "di = dict(sr)\n",
    "print(di, type(di))\n",
    "\n",
    "li = list(sr)\n",
    "print(li, type(li)) # value값만 추출된다.\n",
    "\n",
    "# 2. 판다스 메소드 사용\n",
    "di1 = sr.to_dict()\n",
    "print(di1, type(di1))\n",
    "\n",
    "li1 = sr.to_list()\n",
    "print(li1, type(li1))"
   ]
  },
  {
   "cell_type": "markdown",
   "id": "c54057e4",
   "metadata": {},
   "source": [
    "## 시리즈 값 수정, 추가, 삭제"
   ]
  },
  {
   "cell_type": "code",
   "execution_count": 65,
   "id": "50320280",
   "metadata": {},
   "outputs": [
    {
     "name": "stdout",
     "output_type": "stream",
     "text": [
      "(1, 2, 3, 4, 5) <class 'tuple'>\n",
      "일    1\n",
      "이    2\n",
      "삼    3\n",
      "사    4\n",
      "오    5\n",
      "dtype: int64\n"
     ]
    }
   ],
   "source": [
    "# 시리즈 생성\n",
    "tu = 1, 2, 3, 4, 5\n",
    "print(tu, type(tu))\n",
    "\n",
    "sr = pd.Series(tu, index = ['일', '이', '삼', '사', '오'])\n",
    "print(sr)"
   ]
  },
  {
   "cell_type": "code",
   "execution_count": 66,
   "id": "8f02a32b",
   "metadata": {},
   "outputs": [
    {
     "name": "stdout",
     "output_type": "stream",
     "text": [
      "일    1\n",
      "이    2\n",
      "삼    3\n",
      "사    4\n",
      "오    5\n",
      "Name: 숫자, dtype: int64\n"
     ]
    }
   ],
   "source": [
    "# 시리즈 이름 부여\n",
    "sr.name = '숫자'\n",
    "print(sr) # Name: 숫자, dtype: int64"
   ]
  },
  {
   "cell_type": "code",
   "execution_count": 67,
   "id": "85ca6a35",
   "metadata": {},
   "outputs": [
    {
     "name": "stdout",
     "output_type": "stream",
     "text": [
      "one    1\n",
      "이      2\n",
      "삼      3\n",
      "사      4\n",
      "오      5\n",
      "Name: 숫자, dtype: int64\n"
     ]
    }
   ],
   "source": [
    "# 인덱스 수정\n",
    "# 시리즈명.rename({수정전값 : 수정후값})\n",
    "\n",
    "sr.rename({'일' : 'one'}, inplace = True)\n",
    "# inplace = True : 원본에 바로 적용해준다.\n",
    "# 기본값은 False로 원본에 바로 적용되지 않는다.\n",
    "\n",
    "print(sr) # one    1"
   ]
  },
  {
   "cell_type": "code",
   "execution_count": 68,
   "id": "6579bd97",
   "metadata": {},
   "outputs": [
    {
     "name": "stdout",
     "output_type": "stream",
     "text": [
      "one    1\n",
      "이      2\n",
      "삼      3\n",
      "사      4\n",
      "오      5\n",
      "Name: 숫자, dtype: int64\n",
      "one    6\n",
      "이      2\n",
      "삼      3\n",
      "사      4\n",
      "오      5\n",
      "Name: 숫자, dtype: int64\n",
      "one     6\n",
      "이      20\n",
      "삼       3\n",
      "사       4\n",
      "오       5\n",
      "Name: 숫자, dtype: int64\n"
     ]
    }
   ],
   "source": [
    "# 값 수정\n",
    "print(sr)\n",
    "\n",
    "# 1. 정수형 위치 인덱스를 이용해 값 수정\n",
    "sr[0] = 6\n",
    "print(sr)\n",
    "\n",
    "# 2.인덱스라벨을 이용해 값 수정\n",
    "sr['이'] = 20\n",
    "print(sr)"
   ]
  },
  {
   "cell_type": "code",
   "execution_count": 69,
   "id": "a05cfd74",
   "metadata": {},
   "outputs": [
    {
     "name": "stdout",
     "output_type": "stream",
     "text": [
      "one     6\n",
      "이      20\n",
      "삼       3\n",
      "사       4\n",
      "오       5\n",
      "육       6\n",
      "Name: 숫자, dtype: int64\n"
     ]
    }
   ],
   "source": [
    "# 값 추가\n",
    "# 값 추가는 인덱스라벨을 통해서만 가능하다.\n",
    "\n",
    "sr['육'] = 6\n",
    "print(sr)"
   ]
  },
  {
   "cell_type": "code",
   "execution_count": 70,
   "id": "8b911524",
   "metadata": {},
   "outputs": [
    {
     "name": "stdout",
     "output_type": "stream",
     "text": [
      "one     6\n",
      "이      20\n",
      "삼       3\n",
      "사       4\n",
      "오       5\n",
      "육       6\n",
      "Name: 숫자, dtype: int64\n",
      "이    20\n",
      "삼     3\n",
      "사     4\n",
      "오     5\n",
      "육     6\n",
      "Name: 숫자, dtype: int64\n",
      "삼    3\n",
      "사    4\n",
      "오    5\n",
      "육    6\n",
      "Name: 숫자, dtype: int64\n",
      "사    4\n",
      "오    5\n",
      "육    6\n",
      "Name: 숫자, dtype: int64\n",
      "삼    3\n",
      "사    4\n",
      "오    5\n",
      "육    6\n",
      "Name: 숫자, dtype: int64\n",
      "None\n"
     ]
    }
   ],
   "source": [
    "# 값 삭제\n",
    "print(sr)\n",
    "\n",
    "# 1. .시리즈객체.pop(인덱스라벨) -> 원본에서 삭제된다.\n",
    "sr.pop('one') # 두 번 실행하면 없는 값을 삭제하게 되므로 오류가 발생한다.\n",
    "print(sr)\n",
    "\n",
    "# del 시리즈객체[인덱스라벨]\n",
    "del sr['이'] # 두 번 실행하면 없는 값을 삭제하게 되므로 오류가 발생한다.\n",
    "print(sr)\n",
    "\n",
    "# 시리즈객체.drop(인덱스라벨) => inplace = True를 사용하지 않으면 원본에서 삭제되지 않는다.\n",
    "print(sr.drop('삼'))\n",
    "print(sr)\n",
    "\n",
    "print(sr.drop('삼', inplace = True))"
   ]
  }
 ],
 "metadata": {
  "kernelspec": {
   "display_name": "Python 3 (ipykernel)",
   "language": "python",
   "name": "python3"
  },
  "language_info": {
   "codemirror_mode": {
    "name": "ipython",
    "version": 3
   },
   "file_extension": ".py",
   "mimetype": "text/x-python",
   "name": "python",
   "nbconvert_exporter": "python",
   "pygments_lexer": "ipython3",
   "version": "3.11.5"
  }
 },
 "nbformat": 4,
 "nbformat_minor": 5
}
