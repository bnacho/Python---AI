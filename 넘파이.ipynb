{
 "cells": [
  {
   "cell_type": "markdown",
   "id": "e7fa76ef",
   "metadata": {},
   "source": [
    "# Numpy(넘파이)\n",
    "- 수치 연산을 빠르게 할 수 있는 수치 해석을 위한 라이브러리이다.\n",
    "- 배열을 표한할 수 있다.(숫자로 된 큰 배열 데이터를 다룰 때 사용된다.)"
   ]
  },
  {
   "cell_type": "code",
   "execution_count": 1,
   "id": "2abe270e",
   "metadata": {},
   "outputs": [],
   "source": [
    "import numpy as np # 넘파이를 임포트하는 방법이다."
   ]
  },
  {
   "cell_type": "markdown",
   "id": "41901c3b",
   "metadata": {},
   "source": [
    "## 넘파이 배열 생성하기\n",
    "- 스칼라, 벡터, 매트릭스 글에 정확한 배열 생성 방법이 나와있으니 여기서는 넘어가도록 한다."
   ]
  },
  {
   "cell_type": "code",
   "execution_count": 2,
   "id": "afe56d42",
   "metadata": {},
   "outputs": [
    {
     "name": "stdout",
     "output_type": "stream",
     "text": [
      "[1 2 3] <class 'numpy.ndarray'>\n"
     ]
    }
   ],
   "source": [
    "# np.array()로 넘파이 배열을 생성할 수 있다.\n",
    "arr = np.array([1, 2, 3])\n",
    "print(arr, type(arr)) #  <class 'numpy.ndarray'>"
   ]
  },
  {
   "cell_type": "markdown",
   "id": "c0a2f57e",
   "metadata": {},
   "source": [
    "## 넘파이 배열의 사칙연산"
   ]
  },
  {
   "cell_type": "code",
   "execution_count": 37,
   "id": "265c45c5",
   "metadata": {},
   "outputs": [
    {
     "name": "stdout",
     "output_type": "stream",
     "text": [
      "[ 7  9 11 13 15]\n",
      "[-5 -5 -5 -5 -5]\n",
      "[ 6 14 24 36 50]\n",
      "[0.16666667 0.28571429 0.375      0.44444444 0.5       ]\n"
     ]
    }
   ],
   "source": [
    "v1 = np.array([1, 2, 3, 4, 5])\n",
    "v2 = np.array([6, 7, 8, 9, 10])\n",
    "\n",
    "# 사칙연산\n",
    "print(v1 + v2)\n",
    "print(v1 - v2)\n",
    "print(v1 * v2)\n",
    "print(v1 / v2)"
   ]
  },
  {
   "cell_type": "code",
   "execution_count": 69,
   "id": "a1a41587",
   "metadata": {
    "scrolled": true
   },
   "outputs": [
    {
     "name": "stdout",
     "output_type": "stream",
     "text": [
      "[5 7 9]\n",
      "[ 8  9 10]\n",
      "[11 12 13]\n",
      "[[ 8  9 10]\n",
      " [11 12 13]]\n",
      "1\n",
      "1\n",
      "2\n",
      "[[2 4 6]\n",
      " [5 7 9]]\n",
      "[[ 5  7  9]\n",
      " [ 8 10 12]]\n",
      "(3, 4, 2)\n",
      "(4, 2)\n",
      "[[[ 0  2]\n",
      "  [ 4  6]\n",
      "  [ 8 10]\n",
      "  [12 14]]\n",
      "\n",
      " [[ 8 10]\n",
      "  [12 14]\n",
      "  [16 18]\n",
      "  [20 22]]\n",
      "\n",
      " [[16 18]\n",
      "  [20 22]\n",
      "  [24 26]\n",
      "  [28 30]]]\n"
     ]
    }
   ],
   "source": [
    "# 브로드캐스팅\n",
    "# 크기가 같은 배열은 연산이 가능하다.\n",
    "# 서로 다른 모양의 배열도 일정 조건을 만족하면 연산할 수 있는 기능\n",
    "\n",
    "# 조건\n",
    "# 1.원소가 하나인 배열은 어떤 배열이나 브로드캐스팅이 가능하다\n",
    "# 2.하나의 배열이 1차원의 배열인 경우 가능하다.\n",
    "# 3. 차원의 짝이 맞을 때 가능하다.\n",
    "\n",
    "arr1 = np.array([1, 2, 3]) # 1행 3열\n",
    "arr2 = np.array([4, 5, 6]) # 1행 3열\n",
    "arr3 = np.array([7])\n",
    "arr4 = np.array([[1, 2, 3], [4, 5, 6]]) # 2행 3열\n",
    "arr5 = np.array([[[0,1],[2,3],[4,5],[6,7]],[[8,9],[10,11],[12,13],[14,15]],[[16,17],[18,19],[20,21],[22,23]]])\n",
    "arr6 = array2d = np.array([[0,1],[2,3],[4,5],[6,7]])\n",
    "\n",
    "# 크기가 같으면 브로드캐스팅 없이도 계산이 가능하다.\n",
    "print(arr1 + arr2)\n",
    "\n",
    "# 원소가 하나인 배열과의 연산\n",
    "# 원소가 하나인 배열은 어떤 배열과도 연산이 가능하다.\n",
    "print(arr1 + arr3)\n",
    "print(arr2 + arr3)\n",
    "print(arr4 + arr3)\n",
    "\n",
    "# 하나의 배열이 1차원인 경우\n",
    "# 하나의 배열이 1차원인 경우도 연산이 가능하다.\n",
    "print(arr1.ndim) # arr1은 1차원\n",
    "print(arr2.ndim) # arr2은 1차원\n",
    "print(arr4.ndim) # arr4는 2차원\n",
    "\n",
    "print(arr1 + arr4) # arr1이 1차원이므로 2차원 배열과의 연산이 가능하다/\n",
    "print(arr2 + arr4)\n",
    "\n",
    "# 차원의 짝이 맞는 경우\n",
    "print(arr5.shape) # (3, 4, 2)\n",
    "print(arr6.shape) # (4, 2)\n",
    "print(arr5 + arr6)"
   ]
  },
  {
   "cell_type": "code",
   "execution_count": 63,
   "id": "5841202d",
   "metadata": {},
   "outputs": [
    {
     "name": "stdout",
     "output_type": "stream",
     "text": [
      "[[1]\n",
      " [2]\n",
      " [3]]\n",
      "[[1 2 3]]\n"
     ]
    }
   ],
   "source": [
    "# 행과 열을 서로 바꾸는 방법 : np.transpose\n",
    "arr = np.array([[1], [2], [3]])\n",
    "print(arr) # 3행 1열\n",
    "\n",
    "print(np.transpose(arr)) # 1행 3열"
   ]
  },
  {
   "cell_type": "markdown",
   "id": "4df0ce4f",
   "metadata": {},
   "source": [
    "## 넘파이에서 사용할 수 있는 것들"
   ]
  },
  {
   "cell_type": "code",
   "execution_count": 3,
   "id": "35001efd",
   "metadata": {},
   "outputs": [
    {
     "name": "stdout",
     "output_type": "stream",
     "text": [
      "[1 2 3] (3,)\n"
     ]
    }
   ],
   "source": [
    "# 배열의 크기 구하기 : .shape\n",
    "print(arr, arr.shape) # 크기가 3이다."
   ]
  },
  {
   "cell_type": "code",
   "execution_count": 4,
   "id": "4030f556",
   "metadata": {},
   "outputs": [
    {
     "name": "stdout",
     "output_type": "stream",
     "text": [
      "[1 2 3] 1\n"
     ]
    }
   ],
   "source": [
    "# 배열의 차원 구하기 : .ndim\n",
    "print(arr, arr.ndim) # 1차원이다."
   ]
  },
  {
   "cell_type": "code",
   "execution_count": 5,
   "id": "4833ac53",
   "metadata": {},
   "outputs": [
    {
     "name": "stdout",
     "output_type": "stream",
     "text": [
      "[1 2 3] 3\n"
     ]
    }
   ],
   "source": [
    "# 배열의 요소 개수 구하기 : .size\n",
    "print(arr, arr.size) # 요소의 개수가 3개이다."
   ]
  },
  {
   "cell_type": "code",
   "execution_count": 7,
   "id": "a1ae1c57",
   "metadata": {},
   "outputs": [
    {
     "name": "stdout",
     "output_type": "stream",
     "text": [
      "[1 2 3] int32\n",
      "[1 2 3] <class 'numpy.ndarray'>\n"
     ]
    }
   ],
   "source": [
    "# 배열 요소의 타입 구하기 : .dtype\n",
    "print(arr, arr.dtype) # int32 => 정수형데이터로 이루어져있다.\n",
    "\n",
    "# type()과의 차이점\n",
    "print(arr, type(arr)) # <class 'numpy.ndarray'> => type()은 배열의 각 요소가 아닌 배열이 넘파이 배열임을 알려준다."
   ]
  },
  {
   "cell_type": "code",
   "execution_count": 21,
   "id": "78fee2e0",
   "metadata": {},
   "outputs": [
    {
     "name": "stdout",
     "output_type": "stream",
     "text": [
      "1\n",
      "2\n",
      "3\n",
      "4\n",
      "5\n",
      "[1 2 3]\n",
      "10\n",
      "20\n",
      "30\n",
      "40\n",
      "20\n"
     ]
    }
   ],
   "source": [
    "# 벡터와 매트릭스의 인덱싱과 슬라이싱\n",
    "\n",
    "v = np.array([1, 2, 3, 4, 5]) # 벡터 생성\n",
    "m = np.array([[10, 20], [30, 40]]) # 매트릭스 생성\n",
    "\n",
    "# 벡터 인덱싱\n",
    "print(v[0]) # 리스트와 동일한 방법으로 해줄 수 있다.\n",
    "print(v[1])\n",
    "print(v[2])\n",
    "print(v[3])\n",
    "print(v[4])\n",
    "\n",
    "# 벡터의 슬라이싱\n",
    "print(v[0:3]) # 슬라이싱도 리스트와 동일한 방법으로 해줄 수 있다.\n",
    "\n",
    "# 매트릭스의 인덱싱\n",
    "print(m[0][0]) # 행과 열을 지정하여 인덱싱을 해줄 수 있다.\n",
    "print(m[0][1])\n",
    "print(m[1][0])\n",
    "print(m[1][1])\n",
    "\n",
    "# 매트릭스의 슬라이싱\n",
    "print(m[0,1]) # 리스트와는 다르게 콤마로 구분한다."
   ]
  },
  {
   "cell_type": "code",
   "execution_count": 46,
   "id": "49cc935f",
   "metadata": {},
   "outputs": [
    {
     "name": "stdout",
     "output_type": "stream",
     "text": [
      "[[0. 0. 0. 0.]\n",
      " [0. 0. 0. 0.]\n",
      " [0. 0. 0. 0.]]\n",
      "[[1. 1. 1. 1.]\n",
      " [1. 1. 1. 1.]\n",
      " [1. 1. 1. 1.]]\n"
     ]
    }
   ],
   "source": [
    "# 0으로 이루어진 배열 생성 : np.zeros()\n",
    "m = np.zeros((3, 4)) # 3X4크기의 0으로 이루어진 배열 생성\n",
    "print(m)\n",
    "\n",
    "# 1로 이루어진 배열 생성 : np.ones()\n",
    "m = np.ones((3, 4)) # 3X4크기의 1로 이루어진 배열 생성\n",
    "print(m)"
   ]
  },
  {
   "cell_type": "markdown",
   "id": "a6c7f046",
   "metadata": {},
   "source": [
    "## 넘파이 배열의 추가, 수정, 삭제"
   ]
  },
  {
   "cell_type": "code",
   "execution_count": 30,
   "id": "12696cb0",
   "metadata": {},
   "outputs": [
    {
     "name": "stdout",
     "output_type": "stream",
     "text": [
      "[[1 2 3]]\n",
      "[[4 5 6]]\n",
      "[[1 2 3]\n",
      " [4 5 6]]\n",
      "[[1 2 3 7]\n",
      " [4 5 6 8]]\n"
     ]
    }
   ],
   "source": [
    "m1 = np.array([[1, 2, 3]])\n",
    "m2 = np.array([[4, 5, 6]])\n",
    "print(m1)\n",
    "\n",
    "# 추가 => .append\n",
    "np.append(m1, m2, axis = 0) # axis = 0 : axis는 축을 의미하며 0은 행, 1은 열을 의미한다.\n",
    "print(m2) # 할당해주지 않으면 추가를 해줘도 배열이 변하지 않는다.\n",
    "\n",
    "m1 = np.append(m1, m2, axis = 0)\n",
    "print(m1)\n",
    "\n",
    "m1 = np.append(m1, [[7], [8]], axis = 1) # 열로 추가\n",
    "print(m1)"
   ]
  },
  {
   "cell_type": "code",
   "execution_count": 36,
   "id": "5313b623",
   "metadata": {},
   "outputs": [
    {
     "name": "stdout",
     "output_type": "stream",
     "text": [
      "[[1 2 3]\n",
      " [4 5 6]]\n",
      "[[2 3]\n",
      " [5 6]]\n",
      "[[2 3]]\n"
     ]
    }
   ],
   "source": [
    "# 삭제 -> .delete(배열, 인덱스. 축)\n",
    "m1 = np.array([[1, 2, 3], [4, 5, 6]])\n",
    "print(m1)\n",
    "\n",
    "m1 = np.delete(m1, 0, axis = 1) # 첫번째 열 삭제\n",
    "print(m1)\n",
    "\n",
    "m1 = np.delete(m1, 1, axis = 0) # 첫번째 행 삭제\n",
    "print(m1)"
   ]
  },
  {
   "cell_type": "code",
   "execution_count": 43,
   "id": "b6534ba7",
   "metadata": {},
   "outputs": [
    {
     "name": "stdout",
     "output_type": "stream",
     "text": [
      "[1 2 3]\n",
      "[[1 2 3]\n",
      " [4 5 6]]\n",
      "[30  2  3]\n",
      "[[ 1  2  3]\n",
      " [ 4 20  6]]\n"
     ]
    }
   ],
   "source": [
    "# 수정\n",
    "v1 = np.array([1, 2, 3])\n",
    "m1 = np.array([[1, 2, 3], [4, 5, 6]])\n",
    "print(v1)\n",
    "print(m1)\n",
    "\n",
    "# 벡터(1차원) 수정\n",
    "v1[0] = 30 # 인덱스를 지정하고 값을 수정할 수 있다.\n",
    "print(v1)\n",
    "\n",
    "# 매트릭스(2차원) 수정\n",
    "m1[1][1] = '20' # 행과 열의 인덱스를 지정하고 값을 수정할 수 있다.\n",
    "print(m1)"
   ]
  },
  {
   "cell_type": "code",
   "execution_count": 52,
   "id": "2abb5934",
   "metadata": {},
   "outputs": [
    {
     "name": "stdout",
     "output_type": "stream",
     "text": [
      "[1 2 3 4 5]\n",
      "[1. 2. 3. 4. 5.] float64\n"
     ]
    }
   ],
   "source": [
    "# 형변환\n",
    "arr = np.array([1, 2, 3, 4, 5])\n",
    "print(arr)\n",
    "\n",
    "# 정수 배열을 실수형으로 형변환 => .astype()\n",
    "arr = arr.astype(float)\n",
    "print(arr, arr.dtype) # float64 실수형으로 형변환이 되었다."
   ]
  }
 ],
 "metadata": {
  "kernelspec": {
   "display_name": "Python 3 (ipykernel)",
   "language": "python",
   "name": "python3"
  },
  "language_info": {
   "codemirror_mode": {
    "name": "ipython",
    "version": 3
   },
   "file_extension": ".py",
   "mimetype": "text/x-python",
   "name": "python",
   "nbconvert_exporter": "python",
   "pygments_lexer": "ipython3",
   "version": "3.11.5"
  }
 },
 "nbformat": 4,
 "nbformat_minor": 5
}
